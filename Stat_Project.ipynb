{
  "cells": [
    {
      "cell_type": "markdown",
      "metadata": {
        "id": "NC8163YqNWRX"
      },
      "source": [
        "## **Members Data:**\n",
        "\n",
        "- Riham Mohamed 201901639\n",
        "- Hajar Alshafai 201900537"
      ]
    },
    {
      "cell_type": "markdown",
      "metadata": {
        "id": "6gL3v5X2NxY0"
      },
      "source": [
        "**Very Important Note:**\n",
        "\n",
        "**All reports, and presentation are submitted through this Link.**\n",
        "\n",
        "\n",
        "https://drive.google.com/drive/folders/1lMPTXGMqszX967U431KWOhb4NDHjv3WI?usp=sharing"
      ]
    },
    {
      "cell_type": "markdown",
      "metadata": {
        "id": "NM9HgvLwuF2s"
      },
      "source": [
        "# **Imports:**"
      ]
    },
    {
      "cell_type": "code",
      "execution_count": null,
      "metadata": {
        "id": "7WCPUo3tCFeO"
      },
      "outputs": [],
      "source": [
        "import csv\n",
        "import requests\n",
        "import pandas as pd\n",
        "import numpy as np\n",
        "from sklearn.linear_model import LinearRegression\n",
        "from sklearn.model_selection import train_test_split\n",
        "import matplotlib.pyplot as plt"
      ]
    },
    {
      "cell_type": "markdown",
      "metadata": {
        "id": "ATRgt5YzE04K"
      },
      "source": [
        "# **Part 1: Data Collection and cleaning**"
      ]
    },
    {
      "cell_type": "markdown",
      "metadata": {
        "id": "PCQqXRiNFIlA"
      },
      "source": [
        "## **1.1 Data Collection**"
      ]
    },
    {
      "cell_type": "markdown",
      "metadata": {
        "id": "tcMB1avq-Bv6"
      },
      "source": [
        "### **Personal Population:**\n",
        "\n",
        "\n",
        "**All interviewed people**"
      ]
    },
    {
      "cell_type": "code",
      "execution_count": null,
      "metadata": {
        "colab": {
          "background_save": true
        },
        "id": "ERSP8JGt85wA"
      },
      "outputs": [],
      "source": [
        "r=requests.get('https://data.ojp.usdoj.gov/resource/r4j4-fdwx.csv?$limit=10000000')\n",
        "with open('Personal population .csv',mode='w') as fhand:\n",
        "    fhand.write(r.text)"
      ]
    },
    {
      "cell_type": "code",
      "execution_count": null,
      "metadata": {
        "id": "EhDDJUWd9DT1"
      },
      "outputs": [],
      "source": [
        "Personal_population = pd.read_csv('Personal population .csv')"
      ]
    },
    {
      "cell_type": "markdown",
      "source": [],
      "metadata": {
        "id": "cj9O9iV5fTXJ"
      }
    },
    {
      "cell_type": "markdown",
      "metadata": {
        "id": "K-m4QN6ICTVm"
      },
      "source": [
        "### **Personal Victimization:**"
      ]
    },
    {
      "cell_type": "code",
      "execution_count": null,
      "metadata": {
        "id": "yxiht9HN9chJ"
      },
      "outputs": [],
      "source": [
        "r=requests.get(\"https://data.ojp.usdoj.gov/resource/gcuy-rt5g.csv?$limit=10000000\")\n",
        "with open('Personal Victimization.csv',mode='w') as fhand:\n",
        "    fhand.write(r.text)"
      ]
    },
    {
      "cell_type": "code",
      "execution_count": null,
      "metadata": {
        "id": "qmXhUcVICCui"
      },
      "outputs": [],
      "source": [
        "Personal_Victimization = pd.read_csv('Personal Victimization.csv')"
      ]
    },
    {
      "cell_type": "markdown",
      "metadata": {
        "id": "RQOFB7tbCpDN"
      },
      "source": [
        "### **Georgea data:**\n"
      ]
    },
    {
      "cell_type": "code",
      "execution_count": null,
      "metadata": {
        "id": "p1crxU7fCrlv"
      },
      "outputs": [],
      "source": [
        "r=requests.get(\"https://data.ojp.usdoj.gov/resource/ynf5-u8nk.csv?$limit=1000000\")\n",
        "with open('Georgea data.csv',mode='w') as fhand:\n",
        "    fhand.write(r.text)"
      ]
    },
    {
      "cell_type": "code",
      "execution_count": null,
      "metadata": {
        "id": "eugIenhEC0Zu"
      },
      "outputs": [],
      "source": [
        "Georgea_data = pd.read_csv('Georgea data.csv')"
      ]
    },
    {
      "cell_type": "markdown",
      "metadata": {
        "id": "XtGVWsqxDJ6g"
      },
      "source": [
        "### **Firearm Data:**\n"
      ]
    },
    {
      "cell_type": "code",
      "execution_count": null,
      "metadata": {
        "colab": {
          "base_uri": "https://localhost:8080/"
        },
        "id": "Ud6XreIKskl5",
        "outputId": "33a5f5d3-97d5-4a65-b331-fd6d010475cd"
      },
      "outputs": [
        {
          "output_type": "stream",
          "name": "stdout",
          "text": [
            "Drive already mounted at /content/drive; to attempt to forcibly remount, call drive.mount(\"/content/drive\", force_remount=True).\n"
          ]
        }
      ],
      "source": [
        "from google.colab import drive\n",
        "drive.mount('/content/drive')"
      ]
    },
    {
      "cell_type": "code",
      "execution_count": null,
      "metadata": {
        "id": "GLysKbRTDIl0"
      },
      "outputs": [],
      "source": [
        "Fire_arm=pd.read_excel('/content/drive/MyDrive/Firearm.xlsx')"
      ]
    },
    {
      "cell_type": "markdown",
      "metadata": {
        "id": "5glocvXO4Rzz"
      },
      "source": [
        "### **FBI:**\n"
      ]
    },
    {
      "cell_type": "code",
      "execution_count": null,
      "metadata": {
        "id": "qP1pAnwL4UuQ"
      },
      "outputs": [],
      "source": [
        "#XPhz5cbsrJo1NxI8EJOY4uACQzdhgjzp70fwyp4n\n",
        "r=requests.get(f\"https://api.usa.gov/crime/fbi/sapi/api/agencies?API_KEY=XPhz5cbsrJo1NxI8EJOY4uACQzdhgjzp70fwyp4n\").json()\n",
        "stat=pd.DataFrame.from_dict(r)\n",
        "States=stat.columns\n",
        "offense=[\"aggravated-assault\",\"all-other-larceny\",\"all-other-offenses\",\"animal-cruelty\",\"arson,assisting-or-promoting-prostitution\",\"bad-checks\",\"betting\",\"bribery\",\"burglary-breaking-and-entering\",\"counterfeiting-forgery\",\"credit-card-automated-teller-machine-fraud\",\"destruction-damage-vandalism-of-property\",\"driving-under-the-influence\",\"drug-equipment-violations\",\"drug-violations\",\"drunkenness\",\"embezzlement\",\"extortion-blackmail\",\"false-pretenses-swindle-confidence-game\",\"fondling\",\"gambling-equipment-violation\",\"hacking-computer-invasion\",\"human-trafficking-commerical-sex-acts\",\"human-trafficking-commerical-involuntary-servitude\",\"identity-theft\",\"impersonation\",\"incest,intimidation\",\"justifiable-homicide\",\"kidnapping-abduction\",\"motor-vehicle-theft\",\"murder-and-nonnegligent-manslaughter\",\"negligent-manslaughter\",\"operating-promoting-assiting-gambling\",\"curfew-loitering-vagrancy-violations\",\"peeping-tom\",\"pocket-picking\",\"pornography-obscence-material\",\"prostitution\",\"purchasing-prostitution\",\"purse-snatching\",\"rape\",\"robbery\",\"sexual-assult-with-an-object\",\"sex-offenses-non-forcible\",\"shoplifting\",\"simple-assault\",\"sodomy\",\"sports-tampering\",\"statutory-rape\",\"stolen-property-offenses\",\"theft-from-building\",\"theft-from-coin-operated-machine-or-device\",\"theft-from-motor-vehicle\",\"theft-of-motor-vehicle-parts-or-accessories\",\"theft-from-motor-vehicle\",\"weapon-law-violation\",\"welfare-fraud\",\"wire-fraud\",\"not-specified\",\"liquor-law-violations\",\"crime-against-person\",\"crime-against-property\",\"crime-against-society\",\"assault-offenses\",\"homicide-offenses\",\"human-trafficking-offenses\",\"sex-offenses\",\"sex-offenses-non-forcible\",\"fraud-offenses\",\"larceny-theft-offenses\",\"drugs-narcotic-offenses\",\"gambling-offenses\",\"prostitution-offenses\",\"all-offenses\"]\n",
        "with open('FBI.csv',mode='a') as fhand:\n",
        "      fhand.write('state name,year,offense,offense count,\\n')\n",
        "for i in States:\n",
        "  for j in offense:\n",
        "      #r=requests.get( \"https://api.usa.gov/crime/fbi/sapi/api/data/nibrs/\" + offense[i] +\"/states/HI/count?API_KEY=XPhz5cbsrJo1NxI8EJOY4uACQzdhgjzp70fwyp4n\")\n",
        "      #print(r.text)\n",
        "      r=requests.get( \"https://api.usa.gov/crime/fbi/sapi/api/data/nibrs/\"+j+\"/offense/states/\"+i+\"/count?API_KEY=XPhz5cbsrJo1NxI8EJOY4uACQzdhgjzp70fwyp4n\").json()\n",
        "      #print(r)\n",
        "      if 'results' in r:\n",
        "       for z in range(len(r['results'])):\n",
        "          with open('FBI.csv',mode='a') as fhand:\n",
        "              fbi_data= i+','+ str(r['results'][z][\"data_year\"])+',' +j+','+ str(r['results'][z][\"offense_count\"])+'\\n'\n",
        "              #print(fbi_data)\n",
        "              fhand.write(fbi_data)\n",
        "      else:\n",
        "        pass"
      ]
    },
    {
      "cell_type": "code",
      "execution_count": null,
      "metadata": {
        "id": "AEXo91EsMva2"
      },
      "outputs": [],
      "source": [
        "FBI = pd.read_csv('FBI.csv')"
      ]
    },
    {
      "cell_type": "code",
      "execution_count": null,
      "metadata": {
        "id": "d0QH8druUkvd"
      },
      "outputs": [],
      "source": [
        "FBI = pd.read_csv('/content/drive/MyDrive/FBI.csv')"
      ]
    },
    {
      "cell_type": "markdown",
      "metadata": {
        "id": "ZET0SrRVFeCR"
      },
      "source": [
        "## **2.2 Data Cleaning**"
      ]
    },
    {
      "cell_type": "markdown",
      "metadata": {
        "id": "apmdsLlbNrCK"
      },
      "source": [
        "### **FBI:**"
      ]
    },
    {
      "cell_type": "code",
      "execution_count": null,
      "metadata": {
        "id": "eAPFwLFmQb78"
      },
      "outputs": [],
      "source": [
        "FBI.rename(columns = {'HI': 'Hawaii',\n",
        "                      'DE': 'Delaware',\n",
        "                      'PR': 'Puerto Rico',\n",
        "                      'TX': 'Texas',\n",
        "                      'MA': 'Massachusetts',\n",
        "                      'MD': 'Maryland',\n",
        "                      'ME': 'Maine',\n",
        "                      'IA': 'Iowa',\n",
        "                      'ID': 'Idaho',\n",
        "                      'MI': 'Michigan',\n",
        "                      'UT': 'Utah',\n",
        "                      'MN': 'Minnesota',\n",
        "                      'MO': 'Missouri',\n",
        "                      'IL': 'Illinois',\n",
        "                      'IN': 'Indiana',\n",
        "                      'MS': 'Mississippi',\n",
        "                      'MT': 'Montana',\n",
        "                      'AK': 'Alaska',\n",
        "                      'VA': 'Virginia',\n",
        "                      'AL': 'Alabama',\n",
        "                      'AR': 'Arkansas',\n",
        "                      'VI': 'U.S. Virgin Islands',\n",
        "                      'NC': 'North Carolina',\n",
        "                      'ND': 'North Dakota',\n",
        "                      'RI': 'Rhode Island',\n",
        "                      'NE': 'Nebraska',\n",
        "                      'AZ': 'Arizona',\n",
        "                      'NH': 'New Hampshire',\n",
        "                      'NJ': 'New Jersey',\n",
        "                      'VT': 'Vermont',\n",
        "                      'NM': 'New Mexico',\n",
        "                      'FL': 'Florida',\n",
        "                      'NV': 'Nevada',\n",
        "                      'WA': 'Washington',\n",
        "                      'NY': 'New York',\n",
        "                      'SC': 'South Carolina',\n",
        "                      'SD': 'South Dakota',\n",
        "                      'WI': 'Wisconsin',\n",
        "                      'OH': 'Ohio',\n",
        "                      'GA': 'Georgia',\n",
        "                      'OK': 'Oklahoma',\n",
        "                      'CA': 'California',\n",
        "                      'WV': 'West Virginia',\n",
        "                      'WY': 'Wyoming',\n",
        "                      'OR': 'Oregon',\n",
        "                      'GM': 'Guam',\n",
        "                      'KS': 'Kansas',\n",
        "                      'CO': 'Colorado',\n",
        "                      'KY': 'Kentucky',\n",
        "                      'PA': 'Pennsylvania',\n",
        "                      'CT': 'Connecticut',\n",
        "                      'LA': 'Louisiana',\n",
        "                      'TN': 'Tennessee',\n",
        "                      'DC': 'District of Columbia'},inplace = True)"
      ]
    },
    {
      "cell_type": "markdown",
      "metadata": {
        "id": "UfcotVAvQdFs"
      },
      "source": [
        "### **Personal Population Data:**"
      ]
    },
    {
      "cell_type": "code",
      "execution_count": null,
      "metadata": {
        "colab": {
          "base_uri": "https://localhost:8080/",
          "height": 270
        },
        "id": "ZZOA6bw7FdM_",
        "outputId": "3785fb42-dc0c-450a-e16a-bd9c47d6783e"
      },
      "outputs": [
        {
          "data": {
            "text/html": [
              "\n",
              "  <div id=\"df-8cfc54af-4597-4c0d-a925-c004d893a914\">\n",
              "    <div class=\"colab-df-container\">\n",
              "      <div>\n",
              "<style scoped>\n",
              "    .dataframe tbody tr th:only-of-type {\n",
              "        vertical-align: middle;\n",
              "    }\n",
              "\n",
              "    .dataframe tbody tr th {\n",
              "        vertical-align: top;\n",
              "    }\n",
              "\n",
              "    .dataframe thead th {\n",
              "        text-align: right;\n",
              "    }\n",
              "</style>\n",
              "<table border=\"1\" class=\"dataframe\">\n",
              "  <thead>\n",
              "    <tr style=\"text-align: right;\">\n",
              "      <th></th>\n",
              "      <th>idper</th>\n",
              "      <th>yearq</th>\n",
              "      <th>year</th>\n",
              "      <th>ager</th>\n",
              "      <th>sex</th>\n",
              "      <th>hispanic</th>\n",
              "      <th>race</th>\n",
              "      <th>race_ethnicity</th>\n",
              "      <th>hincome1</th>\n",
              "      <th>hincome2</th>\n",
              "      <th>marital</th>\n",
              "      <th>popsize</th>\n",
              "      <th>region</th>\n",
              "      <th>msa</th>\n",
              "      <th>locality</th>\n",
              "      <th>educatn1</th>\n",
              "      <th>educatn2</th>\n",
              "      <th>veteran</th>\n",
              "      <th>citizen</th>\n",
              "      <th>wgtpercy</th>\n",
              "    </tr>\n",
              "  </thead>\n",
              "  <tbody>\n",
              "    <tr>\n",
              "      <th>0</th>\n",
              "      <td>204182769930938799999916201</td>\n",
              "      <td>2001.4</td>\n",
              "      <td>2001</td>\n",
              "      <td>6</td>\n",
              "      <td>2</td>\n",
              "      <td>2</td>\n",
              "      <td>1</td>\n",
              "      <td>1</td>\n",
              "      <td>88</td>\n",
              "      <td>-1</td>\n",
              "      <td>4</td>\n",
              "      <td>1</td>\n",
              "      <td>1</td>\n",
              "      <td>3</td>\n",
              "      <td>-1</td>\n",
              "      <td>4</td>\n",
              "      <td>-1</td>\n",
              "      <td>-2</td>\n",
              "      <td>-1</td>\n",
              "      <td>1938.505545</td>\n",
              "    </tr>\n",
              "    <tr>\n",
              "      <th>1</th>\n",
              "      <td>204182769936530499999916201</td>\n",
              "      <td>2001.4</td>\n",
              "      <td>2001</td>\n",
              "      <td>5</td>\n",
              "      <td>1</td>\n",
              "      <td>2</td>\n",
              "      <td>1</td>\n",
              "      <td>1</td>\n",
              "      <td>7</td>\n",
              "      <td>-1</td>\n",
              "      <td>1</td>\n",
              "      <td>1</td>\n",
              "      <td>4</td>\n",
              "      <td>1</td>\n",
              "      <td>-1</td>\n",
              "      <td>5</td>\n",
              "      <td>-1</td>\n",
              "      <td>-2</td>\n",
              "      <td>-1</td>\n",
              "      <td>1085.292835</td>\n",
              "    </tr>\n",
              "    <tr>\n",
              "      <th>2</th>\n",
              "      <td>204182769936628799999926201</td>\n",
              "      <td>2001.4</td>\n",
              "      <td>2001</td>\n",
              "      <td>3</td>\n",
              "      <td>2</td>\n",
              "      <td>2</td>\n",
              "      <td>1</td>\n",
              "      <td>1</td>\n",
              "      <td>88</td>\n",
              "      <td>-1</td>\n",
              "      <td>2</td>\n",
              "      <td>1</td>\n",
              "      <td>1</td>\n",
              "      <td>2</td>\n",
              "      <td>-1</td>\n",
              "      <td>5</td>\n",
              "      <td>-1</td>\n",
              "      <td>-2</td>\n",
              "      <td>-1</td>\n",
              "      <td>1065.509680</td>\n",
              "    </tr>\n",
              "    <tr>\n",
              "      <th>3</th>\n",
              "      <td>204182809902538799999916201</td>\n",
              "      <td>2001.4</td>\n",
              "      <td>2001</td>\n",
              "      <td>4</td>\n",
              "      <td>2</td>\n",
              "      <td>1</td>\n",
              "      <td>1</td>\n",
              "      <td>6</td>\n",
              "      <td>6</td>\n",
              "      <td>-1</td>\n",
              "      <td>2</td>\n",
              "      <td>5</td>\n",
              "      <td>1</td>\n",
              "      <td>1</td>\n",
              "      <td>-1</td>\n",
              "      <td>5</td>\n",
              "      <td>-1</td>\n",
              "      <td>-2</td>\n",
              "      <td>-1</td>\n",
              "      <td>0.000000</td>\n",
              "    </tr>\n",
              "    <tr>\n",
              "      <th>4</th>\n",
              "      <td>204182809902538799999916202</td>\n",
              "      <td>2001.4</td>\n",
              "      <td>2001</td>\n",
              "      <td>4</td>\n",
              "      <td>1</td>\n",
              "      <td>1</td>\n",
              "      <td>1</td>\n",
              "      <td>6</td>\n",
              "      <td>6</td>\n",
              "      <td>-1</td>\n",
              "      <td>2</td>\n",
              "      <td>5</td>\n",
              "      <td>1</td>\n",
              "      <td>1</td>\n",
              "      <td>-1</td>\n",
              "      <td>5</td>\n",
              "      <td>-1</td>\n",
              "      <td>-2</td>\n",
              "      <td>-1</td>\n",
              "      <td>1321.547525</td>\n",
              "    </tr>\n",
              "  </tbody>\n",
              "</table>\n",
              "</div>\n",
              "      <button class=\"colab-df-convert\" onclick=\"convertToInteractive('df-8cfc54af-4597-4c0d-a925-c004d893a914')\"\n",
              "              title=\"Convert this dataframe to an interactive table.\"\n",
              "              style=\"display:none;\">\n",
              "        \n",
              "  <svg xmlns=\"http://www.w3.org/2000/svg\" height=\"24px\"viewBox=\"0 0 24 24\"\n",
              "       width=\"24px\">\n",
              "    <path d=\"M0 0h24v24H0V0z\" fill=\"none\"/>\n",
              "    <path d=\"M18.56 5.44l.94 2.06.94-2.06 2.06-.94-2.06-.94-.94-2.06-.94 2.06-2.06.94zm-11 1L8.5 8.5l.94-2.06 2.06-.94-2.06-.94L8.5 2.5l-.94 2.06-2.06.94zm10 10l.94 2.06.94-2.06 2.06-.94-2.06-.94-.94-2.06-.94 2.06-2.06.94z\"/><path d=\"M17.41 7.96l-1.37-1.37c-.4-.4-.92-.59-1.43-.59-.52 0-1.04.2-1.43.59L10.3 9.45l-7.72 7.72c-.78.78-.78 2.05 0 2.83L4 21.41c.39.39.9.59 1.41.59.51 0 1.02-.2 1.41-.59l7.78-7.78 2.81-2.81c.8-.78.8-2.07 0-2.86zM5.41 20L4 18.59l7.72-7.72 1.47 1.35L5.41 20z\"/>\n",
              "  </svg>\n",
              "      </button>\n",
              "      \n",
              "  <style>\n",
              "    .colab-df-container {\n",
              "      display:flex;\n",
              "      flex-wrap:wrap;\n",
              "      gap: 12px;\n",
              "    }\n",
              "\n",
              "    .colab-df-convert {\n",
              "      background-color: #E8F0FE;\n",
              "      border: none;\n",
              "      border-radius: 50%;\n",
              "      cursor: pointer;\n",
              "      display: none;\n",
              "      fill: #1967D2;\n",
              "      height: 32px;\n",
              "      padding: 0 0 0 0;\n",
              "      width: 32px;\n",
              "    }\n",
              "\n",
              "    .colab-df-convert:hover {\n",
              "      background-color: #E2EBFA;\n",
              "      box-shadow: 0px 1px 2px rgba(60, 64, 67, 0.3), 0px 1px 3px 1px rgba(60, 64, 67, 0.15);\n",
              "      fill: #174EA6;\n",
              "    }\n",
              "\n",
              "    [theme=dark] .colab-df-convert {\n",
              "      background-color: #3B4455;\n",
              "      fill: #D2E3FC;\n",
              "    }\n",
              "\n",
              "    [theme=dark] .colab-df-convert:hover {\n",
              "      background-color: #434B5C;\n",
              "      box-shadow: 0px 1px 3px 1px rgba(0, 0, 0, 0.15);\n",
              "      filter: drop-shadow(0px 1px 2px rgba(0, 0, 0, 0.3));\n",
              "      fill: #FFFFFF;\n",
              "    }\n",
              "  </style>\n",
              "\n",
              "      <script>\n",
              "        const buttonEl =\n",
              "          document.querySelector('#df-8cfc54af-4597-4c0d-a925-c004d893a914 button.colab-df-convert');\n",
              "        buttonEl.style.display =\n",
              "          google.colab.kernel.accessAllowed ? 'block' : 'none';\n",
              "\n",
              "        async function convertToInteractive(key) {\n",
              "          const element = document.querySelector('#df-8cfc54af-4597-4c0d-a925-c004d893a914');\n",
              "          const dataTable =\n",
              "            await google.colab.kernel.invokeFunction('convertToInteractive',\n",
              "                                                     [key], {});\n",
              "          if (!dataTable) return;\n",
              "\n",
              "          const docLinkHtml = 'Like what you see? Visit the ' +\n",
              "            '<a target=\"_blank\" href=https://colab.research.google.com/notebooks/data_table.ipynb>data table notebook</a>'\n",
              "            + ' to learn more about interactive tables.';\n",
              "          element.innerHTML = '';\n",
              "          dataTable['output_type'] = 'display_data';\n",
              "          await google.colab.output.renderOutput(dataTable, element);\n",
              "          const docLink = document.createElement('div');\n",
              "          docLink.innerHTML = docLinkHtml;\n",
              "          element.appendChild(docLink);\n",
              "        }\n",
              "      </script>\n",
              "    </div>\n",
              "  </div>\n",
              "  "
            ],
            "text/plain": [
              "                         idper   yearq  year  ager  sex  hispanic  race  \\\n",
              "0  204182769930938799999916201  2001.4  2001     6    2         2     1   \n",
              "1  204182769936530499999916201  2001.4  2001     5    1         2     1   \n",
              "2  204182769936628799999926201  2001.4  2001     3    2         2     1   \n",
              "3  204182809902538799999916201  2001.4  2001     4    2         1     1   \n",
              "4  204182809902538799999916202  2001.4  2001     4    1         1     1   \n",
              "\n",
              "   race_ethnicity  hincome1  hincome2  marital  popsize  region  msa  \\\n",
              "0               1        88        -1        4        1       1    3   \n",
              "1               1         7        -1        1        1       4    1   \n",
              "2               1        88        -1        2        1       1    2   \n",
              "3               6         6        -1        2        5       1    1   \n",
              "4               6         6        -1        2        5       1    1   \n",
              "\n",
              "   locality  educatn1  educatn2  veteran  citizen     wgtpercy  \n",
              "0        -1         4        -1       -2       -1  1938.505545  \n",
              "1        -1         5        -1       -2       -1  1085.292835  \n",
              "2        -1         5        -1       -2       -1  1065.509680  \n",
              "3        -1         5        -1       -2       -1     0.000000  \n",
              "4        -1         5        -1       -2       -1  1321.547525  "
            ]
          },
          "execution_count": 12,
          "metadata": {},
          "output_type": "execute_result"
        }
      ],
      "source": [
        "Personal_population.head()"
      ]
    },
    {
      "cell_type": "code",
      "execution_count": null,
      "metadata": {
        "id": "zam3QtVWEy9m"
      },
      "outputs": [],
      "source": [
        "Personal_population.rename(columns = {'idper':'Unique_Person_Identifier',\n",
        "                                      'yearq':'Year_QuarterCollected',\n",
        "                                      'race_ethnicity':'Race_HispanicOrigin',\n",
        "                                      'hincome1':'TotalIncome_Household_Starting2015Q1',\n",
        "                                      'hincome2':'ImputedIncomeCategories_Starting2017Q1',\n",
        "                                      'popsize':'SizeRange_Place_Housing_Located',\n",
        "                                      'msa':'ClassificationResidence_Office_Management_Budget_Definition_Metropolitan_Statistical_Areas(MSAs)',\n",
        "                                      'locality':'Location_Household_BJS_Starting2020Q1',\n",
        "                                      'educatn1':'Level_Education',\n",
        "                                      'educatn2':'Level_Education_Starting2003Q1',\n",
        "                                      'veteran':'VeteranStatus_Starting2017',\n",
        "                                      'citizen':'CitizenshipStatus_Starting2017Q1',\n",
        "                                      'wgtpercy':'PopulationWeight_PersonPopulationData'},inplace = True)"
      ]
    },
    {
      "cell_type": "markdown",
      "metadata": {
        "id": "HeBn6YXylxo3"
      },
      "source": [
        "### **Personal Crime Victimization:**"
      ]
    },
    {
      "cell_type": "code",
      "execution_count": null,
      "metadata": {
        "id": "XVZ9r5H0mRXv"
      },
      "outputs": [],
      "source": [
        "Personal_Victimization.rename(columns = {'idper':'Unique_Person_Identifier',\n",
        "                                      'yearq':'Year_QuarterCollected',\n",
        "                                      'race_ethnicity':'Race_HispanicOrigin',\n",
        "                                      'hincome1':'AnnualIncome_Household_Starting2015Q1',\n",
        "                                      'hincome2':'ImputedIncomeCategories_Starting2017Q1',\n",
        "                                      'popsize':'Population_size',\n",
        "                                      'msa':'Location_of_residence',\n",
        "                                      'locality':'Location_of_Household_BJS_Starting2020Q1',\n",
        "                                      'educatn1':'Education_level',\n",
        "                                      'educatn2':'Education_level_Starting_from_2003Q1',\n",
        "                                      'veteran':'Veteran_Status_Starting_from_2017',\n",
        "                                      'citizen':'Citizenship_Status_Starting_from_2017Q1',\n",
        "                                      'newcrime':'Aggregate_Type_of_crime',\n",
        "                                      'newoff':'type_of_crime',\n",
        "                                      'notify':'Reporting_to_police',\n",
        "                                      'vicservices':'victims_recieved_help',\n",
        "                                      'locationr':'crime_location',\n",
        "                                      'direl':'Victim-offender_relationship',\n",
        "                                      'weapcat':'Weapon_category',\n",
        "                                      'serious':'injury_type',\n",
        "                                      'wgtviccy':'Annual_victimization_weight',\n",
        "                                      'newwgt':'Series adjusted_victimization_weight',\n",
        "                                      'wgtpercy':'PopulationWeight_PersonPopulationData'},inplace = True)"
      ]
    },
    {
      "cell_type": "markdown",
      "metadata": {
        "id": "c98GQld6HTn3"
      },
      "source": [
        "### **Georgea data:**\n"
      ]
    },
    {
      "cell_type": "code",
      "execution_count": null,
      "metadata": {
        "colab": {
          "base_uri": "https://localhost:8080/"
        },
        "id": "SGSHNKVQG2rl",
        "outputId": "94b6f2c0-52df-497b-c9bd-1f38b0f031b9"
      },
      "outputs": [
        {
          "output_type": "execute_result",
          "data": {
            "text/plain": [
              "id                                   0\n",
              "gender                               0\n",
              "race                                 0\n",
              "age_at_release                       0\n",
              "residence_puma                       0\n",
              "gang_affiliated                   3167\n",
              "supervision_risk_score_first       475\n",
              "supervision_level_first           1720\n",
              "education_level                      0\n",
              "dependents                           0\n",
              "prison_offense                    3277\n",
              "prison_years                         0\n",
              "prior_arrest_episodes_felony         0\n",
              "prior_arrest_episodes_misd           0\n",
              "prior_arrest_episodes_violent        0\n",
              "prior_arrest_episodes_property       0\n",
              "prior_arrest_episodes_drug           0\n",
              "prior_arrest_episodes                0\n",
              "prior_arrest_episodes_1              0\n",
              "prior_arrest_episodes_2              0\n",
              "prior_conviction_episodes            0\n",
              "prior_conviction_episodes_1          0\n",
              "prior_conviction_episodes_2          0\n",
              "prior_conviction_episodes_3          0\n",
              "prior_conviction_episodes_4          0\n",
              "prior_conviction_episodes_5          0\n",
              "prior_conviction_episodes_6          0\n",
              "prior_conviction_episodes_7          0\n",
              "prior_revocations_parole             0\n",
              "prior_revocations_probation          0\n",
              "condition_mh_sa                      0\n",
              "condition_cog_ed                     0\n",
              "condition_other                      0\n",
              "violations                           0\n",
              "violations_instruction               0\n",
              "violations_failtoreport              0\n",
              "violations_1                         0\n",
              "delinquency_reports                  0\n",
              "program_attendances                  0\n",
              "program_unexcusedabsences            0\n",
              "residence_changes                    0\n",
              "avg_days_per_drugtest             6103\n",
              "drugtests_thc_positive            5172\n",
              "drugtests_cocaine_positive        5172\n",
              "drugtests_meth_positive           5172\n",
              "drugtests_other_positive          5172\n",
              "percent_days_employed              462\n",
              "jobs_per_year                      808\n",
              "employment_exempt                    0\n",
              "recidivism_within_3years             0\n",
              "recidivism_arrest_year1              0\n",
              "recidivism_arrest_year2              0\n",
              "recidivism_arrest_year3              0\n",
              "training_sample                      0\n",
              "dtype: int64"
            ]
          },
          "metadata": {},
          "execution_count": 80
        }
      ],
      "source": [
        "Georgea_data.isnull().sum()"
      ]
    },
    {
      "cell_type": "code",
      "execution_count": null,
      "metadata": {
        "colab": {
          "base_uri": "https://localhost:8080/"
        },
        "id": "-8cy_mFoHXLU",
        "outputId": "282211a5-7bbb-4b90-97e1-eab9f6f64476"
      },
      "outputs": [
        {
          "output_type": "execute_result",
          "data": {
            "text/plain": [
              "0        False\n",
              "1         True\n",
              "2        False\n",
              "3        False\n",
              "4        False\n",
              "         ...  \n",
              "25830    False\n",
              "25831    False\n",
              "25832    False\n",
              "25833    False\n",
              "25834    False\n",
              "Name: prior_conviction_episodes_7, Length: 25835, dtype: bool"
            ]
          },
          "metadata": {},
          "execution_count": 81
        }
      ],
      "source": [
        "Georgea_data['gang_affiliated'] = Georgea_data['gang_affiliated'].fillna(False)\n",
        "Georgea_data['supervision_risk_score_first'] = Georgea_data['supervision_risk_score_first'].fillna(Georgea_data['supervision_risk_score_first'].mean())\n",
        "Georgea_data['supervision_level_first'] = Georgea_data['supervision_level_first'].bfill()\n",
        "Georgea_data['prison_offense'] = Georgea_data['prison_offense'].bfill()\n",
        "Georgea_data['prison_offense'] = Georgea_data['prison_offense'].ffill()\n",
        "Georgea_data['avg_days_per_drugtest'] = Georgea_data['avg_days_per_drugtest'].fillna(Georgea_data['avg_days_per_drugtest'].mean())\n",
        "Georgea_data['drugtests_cocaine_positive'] = Georgea_data['drugtests_cocaine_positive'].fillna(Georgea_data['drugtests_cocaine_positive'].mean())\n",
        "Georgea_data['drugtests_meth_positive'] = Georgea_data['drugtests_meth_positive'].fillna(Georgea_data['drugtests_meth_positive'].mean())\n",
        "Georgea_data['drugtests_other_positive'] = Georgea_data['drugtests_other_positive'].fillna(Georgea_data['drugtests_other_positive'].mean())\n",
        "Georgea_data['percent_days_employed'] = Georgea_data['percent_days_employed'].fillna(Georgea_data['percent_days_employed'].mean())\n",
        "Georgea_data['jobs_per_year'] = Georgea_data['jobs_per_year'].fillna(Georgea_data['jobs_per_year'].mean())\n",
        "#encoding\n",
        "Georgea_data['prior_conviction_episodes'] = Georgea_data['prior_conviction_episodes'].replace({\"3 or more\":3})\n",
        "Georgea_data['prior_conviction_episodes_1'] = Georgea_data['prior_conviction_episodes_1'].replace({\"4 or more\":4})\n",
        "#Georgea_data['prior_conviction_episodes_2'] = Georgea_data['prior_conviction_episodes_2'].replace({\"0\":0,\"1\":1,\"2\":2,\"3 or more\":3})\n",
        "Georgea_data['prior_conviction_episodes_3'] = Georgea_data['prior_conviction_episodes_3'].replace({\"3 or more\":3})\n",
        "Georgea_data['prior_conviction_episodes_4'] = Georgea_data['prior_conviction_episodes_4'].replace({\"2 or more\":2})\n",
        "#Georgea_data['prior_conviction_episodes_5'] = Georgea_data['prior_conviction_episodes_5'].replace({\"0\":0,\"1\":1,\"2\":2,\"3 or more\":3})\n",
        "#Georgea_data['prior_conviction_episodes_6'] = Georgea_data['prior_conviction_episodes_6'].replace({\"0\":0,\"1\":1,\"2\":2,\"3 or more\":3})\n",
        "#Georgea_data['prior_conviction_episodes_7'] = Georgea_data['prior_conviction_episodes_7'].replace({\"0\":0,\"1\":1,\"2\":2,\"3 or more\":3})\n",
        "Georgea_data['age_at_release'] = Georgea_data['age_at_release'].replace({'23-27':23 , '28-32':28,'33-37':33,'48 or older':48,'38-42':38,'43-47':43,'18-22':18 })\n",
        "Georgea_data['race'] = Georgea_data['race'].replace({ 'WHITE': 1,'BLACK': 2})\n",
        "Georgea_data.shape\n",
        "Georgea_data['prior_conviction_episodes']\n",
        "Georgea_data['prior_conviction_episodes_7']"
      ]
    },
    {
      "cell_type": "code",
      "execution_count": null,
      "metadata": {
        "id": "P23TElTkHaA_"
      },
      "outputs": [],
      "source": []
    },
    {
      "cell_type": "markdown",
      "metadata": {
        "id": "mES1AZzSwCpP"
      },
      "source": [
        "# **PART 2: Exploratory Analysis:**"
      ]
    },
    {
      "cell_type": "markdown",
      "source": [
        "## **1. National criminal offense rates per year across all available years for the top five most frequent offense categories**"
      ],
      "metadata": {
        "id": "Nbuu-pl8QO18"
      }
    },
    {
      "cell_type": "code",
      "source": [
        "Top5ineachYear = FBI.groupby(['year']).apply(lambda x: x.nlargest(5,['offense count'])).reset_index(drop=True)"
      ],
      "metadata": {
        "id": "UILNar2BWYLg"
      },
      "execution_count": null,
      "outputs": []
    },
    {
      "cell_type": "code",
      "source": [
        "Top5ineachYear.drop(Top5ineachYear[Top5ineachYear['offense'] == 'all-offenses'].index, inplace = True)"
      ],
      "metadata": {
        "id": "FHRU8B6xXkvg"
      },
      "execution_count": null,
      "outputs": []
    },
    {
      "cell_type": "code",
      "source": [
        "offense_categories = Top5ineachYear['offense'].unique().tolist()"
      ],
      "metadata": {
        "id": "dDSpeqXfYy4l"
      },
      "execution_count": null,
      "outputs": []
    },
    {
      "cell_type": "code",
      "source": [
        "offense_categories"
      ],
      "metadata": {
        "colab": {
          "base_uri": "https://localhost:8080/"
        },
        "id": "DV3pTRbFcYKK",
        "outputId": "3030e8f5-6c24-40e1-8026-859b6accb183"
      },
      "execution_count": null,
      "outputs": [
        {
          "output_type": "execute_result",
          "data": {
            "text/plain": [
              "['destruction-damage-vandalism-of-property',\n",
              " 'crime-against-property',\n",
              " 'burglary-breaking-and-entering',\n",
              " 'all-other-larceny',\n",
              " 'simple-assault',\n",
              " 'crime-against-person',\n",
              " 'assault-offenses']"
            ]
          },
          "metadata": {},
          "execution_count": 11
        }
      ]
    },
    {
      "cell_type": "code",
      "source": [
        "Top5ineachYear['offense'].value_counts().plot(kind='bar')"
      ],
      "metadata": {
        "colab": {
          "base_uri": "https://localhost:8080/"
        },
        "id": "SnrIJUL5bHO8",
        "outputId": "49866642-ac00-49e7-e0ed-83f54f523a58"
      },
      "execution_count": null,
      "outputs": [
        {
          "output_type": "execute_result",
          "data": {
            "text/plain": [
              "<matplotlib.axes._subplots.AxesSubplot at 0x7f5a38589190>"
            ]
          },
          "metadata": {},
          "execution_count": 12
        },
        {
          "output_type": "display_data",
          "data": {
            "text/plain": [
              "<Figure size 432x288 with 1 Axes>"
            ],
            "image/png": "[encoded data removed]"
          },
          "metadata": {
            "needs_background": "light"
          }
        }
      ]
    },
    {
      "cell_type": "markdown",
      "source": [
        "**The Top Offenses are ['destruction-damage-vandalism-of-property',\n",
        " 'crime-against-property',\n",
        " 'burglary-breaking-and-entering',\n",
        " 'all-other-larceny',\n",
        " 'simple-assault',\n",
        " 'crime-against-person',\n",
        " 'assault-offenses']**"
      ],
      "metadata": {
        "id": "NvgvGdrzcQ3I"
      }
    },
    {
      "cell_type": "markdown",
      "source": [
        "## **2. The average percentage of violent crimes relative to total crime per state over all available years:**"
      ],
      "metadata": {
        "id": "Pyuz7HQSbogt"
      }
    },
    {
      "cell_type": "code",
      "source": [
        "Violent = FBI.groupby('state name',axis=0);\n",
        "NotViolentDICT = dict()\n",
        "i = 0;\n",
        "h2 = 0;\n",
        "for name_of_group, contents_of_group in Violent:\n",
        "  h1 = 0;\n",
        "  for i in range(len(contents_of_group)):\n",
        "      if 'simple' in contents_of_group.iloc[i,2] : h1+=1\n",
        "  NotViolentDICT[name_of_group] = h2 + h1;\n",
        "  h2 = h1;"
      ],
      "metadata": {
        "id": "gv7kJPW9m1eq"
      },
      "execution_count": null,
      "outputs": []
    },
    {
      "cell_type": "code",
      "source": [
        "Vio = FBI.groupby('state name',axis=0).count().loc[:,'offense']"
      ],
      "metadata": {
        "id": "8tBWCa6DfhlP"
      },
      "execution_count": null,
      "outputs": []
    },
    {
      "cell_type": "code",
      "source": [
        "Vio"
      ],
      "metadata": {
        "colab": {
          "base_uri": "https://localhost:8080/"
        },
        "id": "cP4MKZcIn-tu",
        "outputId": "1a44b534-efa8-4f9e-d835-64ed6b41a1ab"
      },
      "execution_count": null,
      "outputs": [
        {
          "output_type": "execute_result",
          "data": {
            "text/plain": [
              "state name\n",
              "AK     169\n",
              "AL    2236\n",
              "AR    3631\n",
              "AZ    2589\n",
              "CA     169\n",
              "CO    4672\n",
              "CT    3952\n",
              "DC    2131\n",
              "DE    3346\n",
              "FL     113\n",
              "GA    1256\n",
              "HI     685\n",
              "IA    4922\n",
              "ID    4864\n",
              "IL    3049\n",
              "IN    1336\n",
              "KS    3391\n",
              "KY    3717\n",
              "LA    2882\n",
              "MA    4557\n",
              "MD     939\n",
              "ME    2762\n",
              "MI    4675\n",
              "MN    1557\n",
              "MO    2464\n",
              "MS    1958\n",
              "MT    2786\n",
              "NC     564\n",
              "ND    4922\n",
              "NE    3675\n",
              "NH    3279\n",
              "NJ     184\n",
              "NM     685\n",
              "NV     509\n",
              "NY     448\n",
              "OH    3955\n",
              "OK    2325\n",
              "OR    3132\n",
              "PA    1239\n",
              "RI    2871\n",
              "SC    5340\n",
              "SD    3498\n",
              "TN    4417\n",
              "TX    4315\n",
              "UT    4672\n",
              "VA    4831\n",
              "VT    4255\n",
              "WA    2700\n",
              "WI    3017\n",
              "WV    3896\n",
              "WY     439\n",
              "Name: offense, dtype: int64"
            ]
          },
          "metadata": {},
          "execution_count": 15
        }
      ]
    },
    {
      "cell_type": "code",
      "source": [
        "i = 0;\n",
        "NotViolentDICT_ = dict()\n",
        "for year in NotViolentDICT:\n",
        "  NotViolentDICT_[year] = 100*NotViolentDICT[year]/Vio.iloc[i]\n",
        "  i = i+1;"
      ],
      "metadata": {
        "id": "6C_tYT-CnpUE"
      },
      "execution_count": null,
      "outputs": []
    },
    {
      "cell_type": "code",
      "source": [
        "NotViolentDICT_"
      ],
      "metadata": {
        "colab": {
          "base_uri": "https://localhost:8080/"
        },
        "id": "p5kfZHn3oT6Q",
        "outputId": "3b655095-af78-4f60-e8eb-1b30e92b8009"
      },
      "execution_count": null,
      "outputs": [
        {
          "output_type": "execute_result",
          "data": {
            "text/plain": [
              "{'AK': 0.591715976331361,\n",
              " 'AL': 0.8497316636851521,\n",
              " 'AR': 1.1016248967226658,\n",
              " 'AZ': 1.544998068752414,\n",
              " 'CA': 11.242603550295858,\n",
              " 'CO': 0.6207191780821918,\n",
              " 'CT': 1.3157894736842106,\n",
              " 'DC': 2.1586109807602063,\n",
              " 'DE': 1.2851165570830843,\n",
              " 'FL': 19.469026548672566,\n",
              " 'GA': 0.7961783439490446,\n",
              " 'HI': 1.897810218978102,\n",
              " 'IA': 0.6907761072734661,\n",
              " 'ID': 1.2335526315789473,\n",
              " 'IL': 1.9678583142013775,\n",
              " 'IN': 2.9191616766467066,\n",
              " 'KS': 0.9141846063108228,\n",
              " 'KY': 1.2375571697605596,\n",
              " 'LA': 1.4920194309507286,\n",
              " 'MA': 1.0094360324775071,\n",
              " 'MD': 3.5143769968051117,\n",
              " 'ME': 0.8689355539464156,\n",
              " 'MI': 0.9625668449197861,\n",
              " 'MN': 2.7617212588310855,\n",
              " 'MO': 1.2987012987012987,\n",
              " 'MS': 1.481103166496425,\n",
              " 'MT': 1.0768126346015794,\n",
              " 'NC': 3.5460992907801416,\n",
              " 'ND': 0.6907761072734661,\n",
              " 'NE': 1.4965986394557824,\n",
              " 'NH': 1.3418725221103995,\n",
              " 'NJ': 11.41304347826087,\n",
              " 'NM': 0.7299270072992701,\n",
              " 'NV': 1.37524557956778,\n",
              " 'NY': 1.3392857142857142,\n",
              " 'OH': 0.6826801517067004,\n",
              " 'OK': 1.6344086021505377,\n",
              " 'OR': 1.053639846743295,\n",
              " 'PA': 2.2598870056497176,\n",
              " 'RI': 0.9404388714733543,\n",
              " 'SC': 0.9176029962546817,\n",
              " 'SD': 1.5151515151515151,\n",
              " 'TN': 1.0640706361784016,\n",
              " 'TX': 1.1587485515643106,\n",
              " 'UT': 1.1558219178082192,\n",
              " 'VA': 1.1798799420409853,\n",
              " 'VT': 1.3396004700352526,\n",
              " 'WA': 1.6666666666666667,\n",
              " 'WI': 1.126947298641034,\n",
              " 'WV': 1.0780287474332648,\n",
              " 'WY': 6.150341685649202}"
            ]
          },
          "metadata": {},
          "execution_count": 17
        }
      ]
    },
    {
      "cell_type": "code",
      "source": [
        "import matplotlib.pyplot as plt\n",
        "\n",
        "States = list(NotViolentDICT_.keys())\n",
        "Rates = list(NotViolentDICT_.values())\n",
        "f = plt.figure()\n",
        "f.set_figwidth(50)\n",
        "f.set_figheight(40)\n",
        "plt.bar(range(len(NotViolentDICT_)), Rates, tick_label=States)\n",
        "plt.show()"
      ],
      "metadata": {
        "colab": {
          "base_uri": "https://localhost:8080/"
        },
        "id": "M9XXxZZwoTbP",
        "outputId": "5a172458-704a-4ee5-d653-e87d11906af4"
      },
      "execution_count": null,
      "outputs": [
        {
          "output_type": "display_data",
          "data": {
            "text/plain": [
              "<Figure size 3600x2880 with 1 Axes>"
            ],
            "image/png": "[encoded data removed]"
          },
          "metadata": {
            "needs_background": "light"
          }
        }
      ]
    },
    {
      "cell_type": "markdown",
      "source": [
        "Assuming that the 'simple-assault' crime isn't violent, otherwise is violent."
      ],
      "metadata": {
        "id": "qbB0h6rOge8w"
      }
    },
    {
      "cell_type": "markdown",
      "source": [
        "## **3. National homicide rates, as well as total violent crime rates per year over all years.**"
      ],
      "metadata": {
        "id": "nhc6_g2RcfQP"
      }
    },
    {
      "cell_type": "code",
      "source": [
        "homi = FBI.groupby('year',axis=0);"
      ],
      "metadata": {
        "id": "-go94xTafDIS"
      },
      "execution_count": null,
      "outputs": []
    },
    {
      "cell_type": "code",
      "source": [
        "homiDICT = dict()\n",
        "i = 0;\n",
        "h2 = 0;\n",
        "for name_of_group, contents_of_group in homi:\n",
        "  h1 = 0;\n",
        "  for i in range(len(contents_of_group)):\n",
        "      #print(name_of_group)\n",
        "      if 'homi' in contents_of_group.iloc[i,2] : h1+=1\n",
        "     # print(contents_of_group)\n",
        "  homiDICT[name_of_group] = h2 + h1;\n",
        "  h2 = h1;"
      ],
      "metadata": {
        "id": "45Dixh1t00je"
      },
      "execution_count": null,
      "outputs": []
    },
    {
      "cell_type": "code",
      "source": [
        "homiDICT"
      ],
      "metadata": {
        "colab": {
          "base_uri": "https://localhost:8080/"
        },
        "id": "wC_83908fcHJ",
        "outputId": "42021255-dfe6-4875-c801-480f14dfae2a"
      },
      "execution_count": null,
      "outputs": [
        {
          "output_type": "execute_result",
          "data": {
            "text/plain": [
              "{1991: 9,\n",
              " 1992: 27,\n",
              " 1993: 35,\n",
              " 1994: 39,\n",
              " 1995: 49,\n",
              " 1996: 52,\n",
              " 1997: 65,\n",
              " 1998: 84,\n",
              " 1999: 95,\n",
              " 2000: 112,\n",
              " 2001: 122,\n",
              " 2002: 119,\n",
              " 2003: 123,\n",
              " 2004: 135,\n",
              " 2005: 157,\n",
              " 2006: 177,\n",
              " 2007: 181,\n",
              " 2008: 180,\n",
              " 2009: 189,\n",
              " 2010: 202,\n",
              " 2011: 203,\n",
              " 2012: 212,\n",
              " 2013: 214,\n",
              " 2014: 220,\n",
              " 2015: 230,\n",
              " 2016: 227,\n",
              " 2017: 235,\n",
              " 2018: 252,\n",
              " 2019: 289,\n",
              " 2020: 315,\n",
              " 2021: 338}"
            ]
          },
          "metadata": {},
          "execution_count": 21
        }
      ]
    },
    {
      "cell_type": "code",
      "source": [
        "homi.size()"
      ],
      "metadata": {
        "colab": {
          "base_uri": "https://localhost:8080/"
        },
        "id": "20kvf5Oskqxa",
        "outputId": "a50c1171-5f68-4c6a-d025-17fb217175b7"
      },
      "execution_count": null,
      "outputs": [
        {
          "output_type": "execute_result",
          "data": {
            "text/plain": [
              "year\n",
              "1991     522\n",
              "1992     954\n",
              "1993    1156\n",
              "1994    1410\n",
              "1995    1441\n",
              "1996    1445\n",
              "1997    1918\n",
              "1998    2649\n",
              "1999    2738\n",
              "2000    3274\n",
              "2001    3397\n",
              "2002    3605\n",
              "2003    3880\n",
              "2004    4498\n",
              "2005    4882\n",
              "2006    5296\n",
              "2007    5334\n",
              "2008    5499\n",
              "2009    5523\n",
              "2010    5591\n",
              "2011    5615\n",
              "2012    5705\n",
              "2013    5893\n",
              "2014    6098\n",
              "2015    6126\n",
              "2016    6467\n",
              "2017    6615\n",
              "2018    7213\n",
              "2019    8029\n",
              "2020    8147\n",
              "2021    9056\n",
              "dtype: int64"
            ]
          },
          "metadata": {},
          "execution_count": 22
        }
      ]
    },
    {
      "cell_type": "code",
      "source": [
        "i = 0;\n",
        "homiDICT_ = dict()\n",
        "for year in homiDICT:\n",
        "  homiDICT_[year] = 100*homiDICT[year]/homi.size().iloc[i]\n",
        "  i = i+1;"
      ],
      "metadata": {
        "id": "BVYoT3uyi-3T"
      },
      "execution_count": null,
      "outputs": []
    },
    {
      "cell_type": "code",
      "source": [
        "homiDICT_"
      ],
      "metadata": {
        "colab": {
          "base_uri": "https://localhost:8080/"
        },
        "id": "Qh2vzeqRk8eo",
        "outputId": "a86a843d-e9ec-4178-b3b2-aba91167d0e9"
      },
      "execution_count": null,
      "outputs": [
        {
          "output_type": "execute_result",
          "data": {
            "text/plain": [
              "{1991: 1.7241379310344827,\n",
              " 1992: 2.830188679245283,\n",
              " 1993: 3.027681660899654,\n",
              " 1994: 2.765957446808511,\n",
              " 1995: 3.400416377515614,\n",
              " 1996: 3.5986159169550174,\n",
              " 1997: 3.388946819603754,\n",
              " 1998: 3.1710079275198186,\n",
              " 1999: 3.4696859021183344,\n",
              " 2000: 3.420891875381796,\n",
              " 2001: 3.591404180158964,\n",
              " 2002: 3.3009708737864076,\n",
              " 2003: 3.170103092783505,\n",
              " 2004: 3.0013339261894174,\n",
              " 2005: 3.2158951249487915,\n",
              " 2006: 3.34214501510574,\n",
              " 2007: 3.393325834270716,\n",
              " 2008: 3.2733224222585924,\n",
              " 2009: 3.4220532319391634,\n",
              " 2010: 3.6129493829368626,\n",
              " 2011: 3.615316117542297,\n",
              " 2012: 3.7160385626643295,\n",
              " 2013: 3.6314271169183776,\n",
              " 2014: 3.6077402427025254,\n",
              " 2015: 3.7544890630101206,\n",
              " 2016: 3.5101283438997988,\n",
              " 2017: 3.5525321239606953,\n",
              " 2018: 3.4936919450991266,\n",
              " 2019: 3.5994519865487606,\n",
              " 2020: 3.8664539094145085,\n",
              " 2021: 3.7323321554770317}"
            ]
          },
          "metadata": {},
          "execution_count": 24
        }
      ]
    },
    {
      "cell_type": "code",
      "source": [
        "import matplotlib.pyplot as plt\n",
        "\n",
        "Years = list(homiDICT_.keys())\n",
        "Rates = list(homiDICT_.values())\n",
        "f = plt.figure()\n",
        "f.set_figwidth(50)\n",
        "f.set_figheight(40)\n",
        "plt.bar(range(len(homiDICT_)), Rates, tick_label=Years)\n",
        "plt.show()"
      ],
      "metadata": {
        "colab": {
          "base_uri": "https://localhost:8080/"
        },
        "id": "an2L3U8Gf0fH",
        "outputId": "e6293624-37d4-4699-b7a9-75d013758783"
      },
      "execution_count": null,
      "outputs": [
        {
          "output_type": "display_data",
          "data": {
            "text/plain": [
              "<Figure size 3600x2880 with 1 Axes>"
            ],
            "image/png": "[encoded data removed]"
          },
          "metadata": {
            "needs_background": "light"
          }
        }
      ]
    },
    {
      "cell_type": "markdown",
      "metadata": {
        "id": "lrBJ17AbwIb_"
      },
      "source": [
        "**Basic demographic information are age, race,  gender.**"
      ]
    },
    {
      "cell_type": "markdown",
      "metadata": {
        "id": "XMX6TF2TyixV"
      },
      "source": [
        "## **4. The frequency of non-fatal crime incidents in relation to victim demographics:**"
      ]
    },
    {
      "cell_type": "code",
      "execution_count": null,
      "metadata": {
        "colab": {
          "base_uri": "https://localhost:8080/"
        },
        "id": "i7jC2bw_1kb5",
        "outputId": "e2d600d8-6f46-4bbb-fd70-6e8b4defd151"
      },
      "outputs": [
        {
          "output_type": "stream",
          "name": "stdout",
          "text": [
            "The Freaquncy for age 12 - 17 : 11738 Per 63465 Samples.\n",
            "The Freaquncy for age 18 - 24 : 11793 Per 63465 Samples.\n",
            "The Freaquncy for age 25 - 34 : 13522 Per 63465 Samples.\n",
            "The Freaquncy for age 35 - 49 : 15743 Per 63465 Samples.\n",
            "The Freaquncy for age 50 - 64 : 8199 Per 63465 Samples.\n",
            "The Freaquncy for age older than 65 : 2470 Per 63465 Samples.\n",
            "The Freaquncy of Males : 32801 Per 63465 Samples.\n",
            "The Freaquncy of FeMales : 30664 Per 63465 Samples.\n",
            "The Freaquncy of Non-Hispanic/White : 44434 Per 63465 Samples.\n",
            "The Freaquncy of Non-Hispanic/Black : 7899 Per 63465 Samples.\n",
            "The Freaquncy of Non-Hispanic/American Indian/Alaska Native : 712 Per 63465 Samples.\n",
            "The Freaquncy of Non-Hispanic/ Asian/ Native Hawaiian/ Other Pacific Islander : 1387 Per 63465 Samples.\n",
            "The Freaquncy of Non-Hispanic more than one race : 1024 Per 63465 Samples.\n",
            "The Freaquncy of Hispanic : 8009 Per 63465 Samples.\n"
          ]
        }
      ],
      "source": [
        "#Age\n",
        "Frequnce_Age = Personal_Victimization['ager'].value_counts()\n",
        "\n",
        "print (\"The Freaquncy for age 12 - 17 :\", Frequnce_Age.iloc[3], \"Per\",Frequnce_Age.sum(), \"Samples.\" );\n",
        "print (\"The Freaquncy for age 18 - 24 :\", Frequnce_Age.iloc[2], \"Per\",Frequnce_Age.sum(), \"Samples.\" );\n",
        "print (\"The Freaquncy for age 25 - 34 :\", Frequnce_Age.iloc[1], \"Per\",Frequnce_Age.sum(), \"Samples.\" );\n",
        "print (\"The Freaquncy for age 35 - 49 :\", Frequnce_Age.iloc[0], \"Per\",Frequnce_Age.sum(), \"Samples.\" );\n",
        "print (\"The Freaquncy for age 50 - 64 :\", Frequnce_Age.iloc[4], \"Per\",Frequnce_Age.sum(), \"Samples.\" );\n",
        "print (\"The Freaquncy for age older than 65 :\", Frequnce_Age.iloc[5], \"Per\",Frequnce_Age.sum(), \"Samples.\" );\n",
        "#Sex\n",
        "Frequnce_Sex = Personal_Victimization['sex'].value_counts()\n",
        "\n",
        "print (\"The Freaquncy of Males :\", Frequnce_Sex.iloc[0], \"Per\",Frequnce_Sex.sum(), \"Samples.\" );\n",
        "print (\"The Freaquncy of FeMales :\", Frequnce_Sex.iloc[1], \"Per\",Frequnce_Sex.sum(), \"Samples.\" );\n",
        "\n",
        "#Race\n",
        "Frequnce_Race = Personal_Victimization['race_ethnicity'].value_counts()\n",
        "\n",
        "print (\"The Freaquncy of Non-Hispanic/White :\", Frequnce_Race.iloc[0], \"Per\",Frequnce_Race.sum(), \"Samples.\" );\n",
        "print (\"The Freaquncy of Non-Hispanic/Black :\", Frequnce_Race.iloc[2], \"Per\",Frequnce_Race.sum(), \"Samples.\" );\n",
        "print (\"The Freaquncy of Non-Hispanic/American Indian/Alaska Native :\", Frequnce_Race.iloc[5], \"Per\",Frequnce_Race.sum(), \"Samples.\" );\n",
        "print (\"The Freaquncy of Non-Hispanic/ Asian/ Native Hawaiian/ Other Pacific Islander :\", Frequnce_Race.iloc[3], \"Per\",Frequnce_Race.sum(), \"Samples.\" );\n",
        "print (\"The Freaquncy of Non-Hispanic more than one race :\", Frequnce_Race.iloc[4], \"Per\",Frequnce_Race.sum(), \"Samples.\" );\n",
        "print (\"The Freaquncy of Hispanic :\", Frequnce_Race.iloc[1], \"Per\",Frequnce_Race.sum(), \"Samples.\" );\n"
      ]
    },
    {
      "cell_type": "code",
      "source": [
        "Frequnce_Age.plot(kind='bar')"
      ],
      "metadata": {
        "colab": {
          "base_uri": "https://localhost:8080/"
        },
        "id": "L874hToMo2tS",
        "outputId": "e7fb0f32-b32a-4e4a-bf49-e86d8331ae5a"
      },
      "execution_count": null,
      "outputs": [
        {
          "output_type": "execute_result",
          "data": {
            "text/plain": [
              "<matplotlib.axes._subplots.AxesSubplot at 0x7f5a37f75ac0>"
            ]
          },
          "metadata": {},
          "execution_count": 27
        },
        {
          "output_type": "display_data",
          "data": {
            "text/plain": [
              "<Figure size 432x288 with 1 Axes>"
            ],
            "image/png": "[encoded data removed]"
          },
          "metadata": {
            "needs_background": "light"
          }
        }
      ]
    },
    {
      "cell_type": "code",
      "source": [
        "Frequnce_Sex.plot(kind='bar')"
      ],
      "metadata": {
        "colab": {
          "base_uri": "https://localhost:8080/"
        },
        "id": "WZhKXjZ5o3aV",
        "outputId": "fbb16fdb-117f-4930-8f27-5fdf8698f42e"
      },
      "execution_count": null,
      "outputs": [
        {
          "output_type": "execute_result",
          "data": {
            "text/plain": [
              "<matplotlib.axes._subplots.AxesSubplot at 0x7f5a37db4c10>"
            ]
          },
          "metadata": {},
          "execution_count": 28
        },
        {
          "output_type": "display_data",
          "data": {
            "text/plain": [
              "<Figure size 432x288 with 1 Axes>"
            ],
            "image/png": "[encoded data removed]"
          },
          "metadata": {
            "needs_background": "light"
          }
        }
      ]
    },
    {
      "cell_type": "code",
      "source": [
        "Frequnce_Race.plot(kind='bar')"
      ],
      "metadata": {
        "colab": {
          "base_uri": "https://localhost:8080/"
        },
        "id": "TlzzRJNeo6hd",
        "outputId": "1d9fdccf-842c-40a5-93b2-773dd2a0f11a"
      },
      "execution_count": null,
      "outputs": [
        {
          "output_type": "execute_result",
          "data": {
            "text/plain": [
              "<matplotlib.axes._subplots.AxesSubplot at 0x7f5a37d8b8b0>"
            ]
          },
          "metadata": {},
          "execution_count": 29
        },
        {
          "output_type": "display_data",
          "data": {
            "text/plain": [
              "<Figure size 432x288 with 1 Axes>"
            ],
            "image/png": "[encoded data removed]"
          },
          "metadata": {
            "needs_background": "light"
          }
        }
      ]
    },
    {
      "cell_type": "markdown",
      "metadata": {
        "id": "aqUReQ8I6UW4"
      },
      "source": [
        "## **5. The frequency of non-fatal crime incidents in relation to offender demographics.**\n"
      ]
    },
    {
      "cell_type": "code",
      "execution_count": null,
      "metadata": {
        "colab": {
          "base_uri": "https://localhost:8080/"
        },
        "id": "B-BqvvYC6o8Y",
        "outputId": "66ea1f8a-e8be-4369-920e-8bd6e48191cb"
      },
      "outputs": [
        {
          "output_type": "stream",
          "name": "stdout",
          "text": [
            "The Freaquncy for age 11 or younger : 875 Per 63465 Samples.\n",
            "The Freaquncy for age 12-17 : 9966 Per 63465 Samples.\n",
            "The Freaquncy for age 18 - 29 : 18341 Per 63465 Samples.\n",
            "The Freaquncy for age 30 or older : 22622 Per 63465 Samples.\n",
            "The Freaquncy for age Multiple offenders of various ages : 4769 Per 63465 Samples.\n",
            "The Freaquncy for Residue : 6892 Per 63465 Samples.\n",
            "The Freaquncy of Males : 47183 Per 63465 Samples.\n",
            "The Freaquncy of FeMales : 10299 Per 63465 Samples.\n",
            "The Freaquncy of Both Males and Females : 2236 Per 63465 Samples.\n",
            "The Freaquncy of Unknown : 2762 Per 63465 Samples.\n",
            "The Freaquncy of Residue : 985 Per 63465 Samples.\n",
            "The Freaquncy of the Invalid until 2012 Q1 : 45151 Per 63465 Samples.\n",
            "The Freaquncy of Non-Hispanic/White : 8413 Per 63465 Samples.\n",
            "The Freaquncy of Non-Hispanic/Black : 4094 Per 63465 Samples.\n",
            "The Freaquncy of Non-Hispanic/American Indian/Alaska Native : 151 Per 63465 Samples.\n",
            "The Freaquncy of Non-Hispanic/ Asian/ Native Hawaiian/ Other Pacific Islander : 280 Per 63465 Samples.\n",
            "The Freaquncy of Non-Hispanic more than one race : 225 Per 63465 Samples.\n",
            "The Freaquncy of Hispanic : 2228 Per 63465 Samples.\n",
            "The Freaquncy of Unknown race/ethnicity : 1933 Per 63465 Samples.\n",
            "The Freaquncy of Mixed race group of offenders : 163 Per 63465 Samples.\n",
            "The Freaquncy of Unknown number of offenders : 827 Per 63465 Samples.\n"
          ]
        }
      ],
      "source": [
        "#Age\n",
        "OffenderFrequnce_Age = Personal_Victimization['offenderage'].value_counts()\n",
        "\n",
        "print (\"The Freaquncy for age 11 or younger :\", OffenderFrequnce_Age.iloc[5], \"Per\",OffenderFrequnce_Age.sum(), \"Samples.\" );\n",
        "print (\"The Freaquncy for age 12-17 :\", OffenderFrequnce_Age.iloc[2], \"Per\",OffenderFrequnce_Age.sum(), \"Samples.\" );\n",
        "print (\"The Freaquncy for age 18 - 29 :\", OffenderFrequnce_Age.iloc[1], \"Per\",OffenderFrequnce_Age.sum(), \"Samples.\" );\n",
        "print (\"The Freaquncy for age 30 or older :\", OffenderFrequnce_Age.iloc[0], \"Per\",OffenderFrequnce_Age.sum(), \"Samples.\" );\n",
        "print (\"The Freaquncy for age Multiple offenders of various ages :\", OffenderFrequnce_Age.iloc[4], \"Per\",OffenderFrequnce_Age.sum(), \"Samples.\" );\n",
        "print (\"The Freaquncy for Residue :\", OffenderFrequnce_Age.iloc[3], \"Per\",OffenderFrequnce_Age.sum(), \"Samples.\" );\n",
        "#Sex\n",
        "OffenderFrequnce_Sex = Personal_Victimization['offendersex'].value_counts()\n",
        "\n",
        "print (\"The Freaquncy of Males :\", OffenderFrequnce_Sex.iloc[0], \"Per\",OffenderFrequnce_Sex.sum(), \"Samples.\" );\n",
        "print (\"The Freaquncy of FeMales :\", OffenderFrequnce_Sex.iloc[1], \"Per\",OffenderFrequnce_Sex.sum(), \"Samples.\" );\n",
        "print (\"The Freaquncy of Both Males and Females :\", OffenderFrequnce_Sex.iloc[3], \"Per\",OffenderFrequnce_Sex.sum(), \"Samples.\" );\n",
        "print (\"The Freaquncy of Unknown :\", OffenderFrequnce_Sex.iloc[2], \"Per\",OffenderFrequnce_Sex.sum(), \"Samples.\" );\n",
        "print (\"The Freaquncy of Residue :\", OffenderFrequnce_Sex.iloc[4], \"Per\",OffenderFrequnce_Sex.sum(), \"Samples.\" );\n",
        "\n",
        "\n",
        "\n",
        "#Race\n",
        "OffenderFrequnce_Race = Personal_Victimization['offtracenew'].value_counts()\n",
        "\n",
        "print (\"The Freaquncy of the Invalid until 2012 Q1 :\", OffenderFrequnce_Race.iloc[0], \"Per\",OffenderFrequnce_Race.sum(), \"Samples.\" );\n",
        "print (\"The Freaquncy of Non-Hispanic/White :\", OffenderFrequnce_Race.iloc[1], \"Per\",OffenderFrequnce_Race.sum(), \"Samples.\" );\n",
        "print (\"The Freaquncy of Non-Hispanic/Black :\", OffenderFrequnce_Race.iloc[2], \"Per\",OffenderFrequnce_Race.sum(), \"Samples.\" );\n",
        "print (\"The Freaquncy of Non-Hispanic/American Indian/Alaska Native :\", OffenderFrequnce_Race.iloc[9], \"Per\",OffenderFrequnce_Race.sum(), \"Samples.\" );\n",
        "print (\"The Freaquncy of Non-Hispanic/ Asian/ Native Hawaiian/ Other Pacific Islander :\", OffenderFrequnce_Race.iloc[6], \"Per\",OffenderFrequnce_Race.sum(), \"Samples.\" );\n",
        "print (\"The Freaquncy of Non-Hispanic more than one race :\", OffenderFrequnce_Race.iloc[7], \"Per\",OffenderFrequnce_Race.sum(), \"Samples.\" );\n",
        "print (\"The Freaquncy of Hispanic :\", OffenderFrequnce_Race.iloc[3], \"Per\",OffenderFrequnce_Race.sum(), \"Samples.\" );\n",
        "print (\"The Freaquncy of Unknown race/ethnicity :\", OffenderFrequnce_Race.iloc[4], \"Per\",OffenderFrequnce_Race.sum(), \"Samples.\" );\n",
        "print (\"The Freaquncy of Mixed race group of offenders :\", OffenderFrequnce_Race.iloc[8], \"Per\",OffenderFrequnce_Race.sum(), \"Samples.\" );\n",
        "print (\"The Freaquncy of Unknown number of offenders :\", OffenderFrequnce_Race.iloc[5], \"Per\",OffenderFrequnce_Race.sum(), \"Samples.\" );\n"
      ]
    },
    {
      "cell_type": "code",
      "source": [
        "OffenderFrequnce_Age.plot(kind='bar')"
      ],
      "metadata": {
        "colab": {
          "base_uri": "https://localhost:8080/"
        },
        "id": "ho32jvWQo_r5",
        "outputId": "f0be87fa-b62a-448d-c778-8fd6d3bc4ff2"
      },
      "execution_count": null,
      "outputs": [
        {
          "output_type": "execute_result",
          "data": {
            "text/plain": [
              "<matplotlib.axes._subplots.AxesSubplot at 0x7f5a37cf3580>"
            ]
          },
          "metadata": {},
          "execution_count": 31
        },
        {
          "output_type": "display_data",
          "data": {
            "text/plain": [
              "<Figure size 432x288 with 1 Axes>"
            ],
            "image/png": "[encoded data removed]"
          },
          "metadata": {
            "needs_background": "light"
          }
        }
      ]
    },
    {
      "cell_type": "code",
      "source": [
        "OffenderFrequnce_Sex.plot(kind='bar')"
      ],
      "metadata": {
        "colab": {
          "base_uri": "https://localhost:8080/"
        },
        "id": "HlP7Zlh2pASx",
        "outputId": "134b27b4-0ab7-4a7e-f434-5004dc414711"
      },
      "execution_count": null,
      "outputs": [
        {
          "output_type": "execute_result",
          "data": {
            "text/plain": [
              "<matplotlib.axes._subplots.AxesSubplot at 0x7f5a37cd88e0>"
            ]
          },
          "metadata": {},
          "execution_count": 32
        },
        {
          "output_type": "display_data",
          "data": {
            "text/plain": [
              "<Figure size 432x288 with 1 Axes>"
            ],
            "image/png": "[encoded data removed]"
          },
          "metadata": {
            "needs_background": "light"
          }
        }
      ]
    },
    {
      "cell_type": "code",
      "source": [
        "OffenderFrequnce_Race.plot(kind='bar')"
      ],
      "metadata": {
        "colab": {
          "base_uri": "https://localhost:8080/"
        },
        "id": "ZQ-nmhkzpAny",
        "outputId": "4ac13ef0-68f1-4c6f-fa2f-9867b9fcaf3d"
      },
      "execution_count": null,
      "outputs": [
        {
          "output_type": "execute_result",
          "data": {
            "text/plain": [
              "<matplotlib.axes._subplots.AxesSubplot at 0x7f5a37caff40>"
            ]
          },
          "metadata": {},
          "execution_count": 33
        },
        {
          "output_type": "display_data",
          "data": {
            "text/plain": [
              "<Figure size 432x288 with 1 Axes>"
            ],
            "image/png": "[encoded data removed]"
          },
          "metadata": {
            "needs_background": "light"
          }
        }
      ]
    },
    {
      "cell_type": "markdown",
      "metadata": {
        "id": "rxF_Q7lZRIcc"
      },
      "source": [
        "## **6. The relationship between the victim’s education level, their gross household income, and their rate of victimization.**"
      ]
    },
    {
      "cell_type": "code",
      "execution_count": null,
      "metadata": {
        "id": "BuIlV-LZRUKV"
      },
      "outputs": [],
      "source": [
        "edu = Personal_Victimization['educatn1']\n",
        "gross_household = Personal_Victimization['hincome1']"
      ]
    },
    {
      "cell_type": "code",
      "source": [
        "edu.value_counts().plot(kind='bar')"
      ],
      "metadata": {
        "colab": {
          "base_uri": "https://localhost:8080/"
        },
        "id": "TdqBm7YfpQ1A",
        "outputId": "4b8476da-939f-4389-d179-52dd7305fe3a"
      },
      "execution_count": null,
      "outputs": [
        {
          "output_type": "execute_result",
          "data": {
            "text/plain": [
              "<matplotlib.axes._subplots.AxesSubplot at 0x7f5a37c1a130>"
            ]
          },
          "metadata": {},
          "execution_count": 35
        },
        {
          "output_type": "display_data",
          "data": {
            "text/plain": [
              "<Figure size 432x288 with 1 Axes>"
            ],
            "image/png": "[encoded data removed]"
          },
          "metadata": {
            "needs_background": "light"
          }
        }
      ]
    },
    {
      "cell_type": "code",
      "source": [
        "gross_household.value_counts().plot(kind='bar')"
      ],
      "metadata": {
        "colab": {
          "base_uri": "https://localhost:8080/"
        },
        "id": "lmtDWh0OpTJG",
        "outputId": "b93551eb-9734-43bd-9d6f-37a7c3ee18e6"
      },
      "execution_count": null,
      "outputs": [
        {
          "output_type": "execute_result",
          "data": {
            "text/plain": [
              "<matplotlib.axes._subplots.AxesSubplot at 0x7f5a37be32e0>"
            ]
          },
          "metadata": {},
          "execution_count": 36
        },
        {
          "output_type": "display_data",
          "data": {
            "text/plain": [
              "<Figure size 432x288 with 1 Axes>"
            ],
            "image/png": "[encoded data removed]"
          },
          "metadata": {
            "needs_background": "light"
          }
        }
      ]
    },
    {
      "cell_type": "markdown",
      "metadata": {
        "id": "NH80vp9Cf7cl"
      },
      "source": [
        "# **PART 3: Answering Questions:**"
      ]
    },
    {
      "cell_type": "markdown",
      "metadata": {
        "id": "Kx1j3XjhgDDQ"
      },
      "source": [
        "## **3.1 Use the appropriate statistics and plots to answer the following questions:**"
      ]
    },
    {
      "cell_type": "markdown",
      "metadata": {
        "id": "AuHPBd69AwOg"
      },
      "source": [
        "Which type of non-fatal crime is the most under-reported?"
      ]
    },
    {
      "cell_type": "code",
      "execution_count": null,
      "metadata": {
        "colab": {
          "base_uri": "https://localhost:8080/",
          "height": 419
        },
        "id": "24CVfIcSAvVn",
        "outputId": "34b5bdd1-9ea9-4d69-d424-e612a039da0d"
      },
      "outputs": [
        {
          "output_type": "stream",
          "name": "stdout",
          "text": [
            "most under reported:   rape\n",
            "least under reported:   Aggravated_assault\n"
          ]
        },
        {
          "output_type": "display_data",
          "data": {
            "text/plain": [
              "<Figure size 432x288 with 1 Axes>"
            ],
            "image/png": "[encoded data removed]"
          },
          "metadata": {
            "needs_background": "light"
          }
        }
      ],
      "source": [
        "Personal_Victimization.columns\n",
        "#reported->Reporting_to_police\n",
        "#crime->type_of_crime:\n",
        "#1->rape/sexual asssult\n",
        "#2->robbery\n",
        "#3->Aggravated assault\n",
        "#4->simple assault\n",
        "#5->Personal theft\n",
        "Personal_Victimization['type_of_crime']\n",
        "Personal_Victimization['Reporting_to_police']\n",
        "# create a copy of the original data\n",
        "Personal_Victimization_copy = Personal_Victimization.copy()\n",
        "cols = ['type_of_crime', 'Reporting_to_police']\n",
        "Personal_Victimization_copy[cols]\n",
        "count_rape=0\n",
        "count_robbery=0\n",
        "count_Aggravated_assault=0\n",
        "count_simple_asssault=0\n",
        "count_personal_theft=0\n",
        "for i in range(len(Personal_Victimization_copy)):\n",
        "    if Personal_Victimization_copy['type_of_crime'][i] ==1 :\n",
        "        if Personal_Victimization_copy['Reporting_to_police'][i] ==2:\n",
        "           count_rape=count_rape+1\n",
        "    else:\n",
        "      if Personal_Victimization_copy['type_of_crime'][i] ==2 :\n",
        "         if Personal_Victimization_copy['Reporting_to_police'][i]==2 :\n",
        "            count_robbery=count_robbery+1\n",
        "      else:\n",
        "          if Personal_Victimization_copy['type_of_crime'][i] ==3:\n",
        "              if Personal_Victimization_copy['Reporting_to_police'][i]==2 :\n",
        "                 count_Aggravated_assault=count_Aggravated_assault+1\n",
        "          else:\n",
        "                if Personal_Victimization_copy['type_of_crime'][i] ==4 :\n",
        "                   if Personal_Victimization_copy['Reporting_to_police'][i]==2 :\n",
        "                       count_simple_asssault=count_simple_asssault+1\n",
        "                else:\n",
        "                     if Personal_Victimization_copy['type_of_crime'][i] ==5 :\n",
        "                        if Personal_Victimization_copy['Reporting_to_police'][i]==2 :\n",
        "                            count_personal_theft=count_personal_theft+1\n",
        "\n",
        "   ##################################3\n",
        "total_count_rape=0\n",
        "total_count_robbery=0\n",
        "total_count_Aggravated_assault=0\n",
        "total_count_simple_asssault=0\n",
        "total_count_personal_theft=0\n",
        "for i in range(len(Personal_Victimization_copy)):\n",
        "    if Personal_Victimization_copy['type_of_crime'][i] ==1 :\n",
        "        if (Personal_Victimization_copy['Reporting_to_police'][i] ==2) | (Personal_Victimization_copy['Reporting_to_police'][i] ==1):\n",
        "           total_count_rape=total_count_rape+1\n",
        "    else:\n",
        "      if Personal_Victimization_copy['type_of_crime'][i] ==2 :\n",
        "         if(Personal_Victimization_copy['Reporting_to_police'][i] ==2) | (Personal_Victimization_copy['Reporting_to_police'][i] ==1) :\n",
        "            total_count_robbery=total_count_robbery+1\n",
        "      else:\n",
        "          if Personal_Victimization_copy['type_of_crime'][i] ==3:\n",
        "              if (Personal_Victimization_copy['Reporting_to_police'][i] ==2) | (Personal_Victimization_copy['Reporting_to_police'][i] ==1):\n",
        "                 total_count_Aggravated_assault=total_count_Aggravated_assault+1\n",
        "          else:\n",
        "                if Personal_Victimization_copy['type_of_crime'][i] ==4 :\n",
        "                   if(Personal_Victimization_copy['Reporting_to_police'][i] ==2) | (Personal_Victimization_copy['Reporting_to_police'][i] ==1):\n",
        "                       total_count_simple_asssault=total_count_simple_asssault+1\n",
        "                else:\n",
        "                     if Personal_Victimization_copy['type_of_crime'][i] ==5 :\n",
        "                        if (Personal_Victimization_copy['Reporting_to_police'][i] ==2) | (Personal_Victimization_copy['Reporting_to_police'][i] ==1):\n",
        "                            total_count_personal_theft=total_count_personal_theft+1\n",
        "   ##################################\n",
        "\n",
        "dictionary_1={\"rape\":(count_rape/total_count_rape)*100,\"robbery\":(count_robbery/total_count_Aggravated_assault)*100,\"Aggravated_assault\":(count_Aggravated_assault/total_count_simple_asssault)*100,\"simple_asssault\":(count_simple_asssault/total_count_simple_asssault)*100,\"personal_theft\":(count_personal_theft/total_count_personal_theft)*100}\n",
        "print(\"most under reported:  \",max(dictionary_1, key=dictionary_1.get))\n",
        "print(\"least under reported:  \",min(dictionary_1, key=dictionary_1.get))\n",
        "\n",
        "Personal_Victimization_copy['type_of_crime'] = Personal_Victimization_copy['type_of_crime'] .replace({1:\"sexual_asssult\",2:\"robbery\",3:\"Aggravated_assault\",4:\"simple_assault\",5:\"Personal_theft\"})\n",
        "#plt.hist(Personal_Victimization_copy['type_of_crime'],counts)\n",
        "#plt.xlabel('type of crime')\n",
        "#plt.ylabel('number of reports')\n",
        "df = pd.DataFrame(list(dictionary_1.items()),columns = ['keys','crimes'])\n",
        "df.plot(kind ='bar',x ='keys',y ='crimes',color ='blue')\n",
        "plt.xlabel(\"Crime\")\n",
        "plt.ylabel(\"under reported crimes \")\n",
        "plt.title(\"number of under-reported crime\")\n",
        "plt.show()\n",
        "\n",
        "#########################################################################################################################################################################################\n"
      ]
    },
    {
      "cell_type": "markdown",
      "metadata": {
        "id": "NcMu9moFA4ML"
      },
      "source": [
        " Is there an association between the offender-victim relationship and the likelihood of a\n",
        "crime being reported?"
      ]
    },
    {
      "cell_type": "code",
      "execution_count": null,
      "metadata": {
        "colab": {
          "base_uri": "https://localhost:8080/",
          "height": 1000
        },
        "id": "hqfvRwIvgiAS",
        "outputId": "b4203d49-3c36-4cb3-e76b-bd33cb030082"
      },
      "outputs": [
        {
          "output_type": "stream",
          "name": "stdout",
          "text": [
            "relation of most reported :   Intimates\n"
          ]
        },
        {
          "output_type": "display_data",
          "data": {
            "text/plain": [
              "<Figure size 432x288 with 1 Axes>"
            ],
            "image/png": "[encoded data removed]"
          },
          "metadata": {
            "needs_background": "light"
          }
        },
        {
          "output_type": "stream",
          "name": "stdout",
          "text": [
            "relation of most reported :   Strangers\n"
          ]
        },
        {
          "output_type": "display_data",
          "data": {
            "text/plain": [
              "<Figure size 432x288 with 1 Axes>"
            ],
            "image/png": "[encoded data removed]"
          },
          "metadata": {
            "needs_background": "light"
          }
        },
        {
          "output_type": "stream",
          "name": "stdout",
          "text": [
            "relation of most reported :   Strangers\n"
          ]
        },
        {
          "output_type": "display_data",
          "data": {
            "text/plain": [
              "<Figure size 432x288 with 1 Axes>"
            ],
            "image/png": "[encoded data removed]"
          },
          "metadata": {
            "needs_background": "light"
          }
        }
      ],
      "source": [
        "Personal_Victimization_copy['Victim-offender_relationship']\n",
        "cols = ['Victim-offender_relationship', 'Reporting_to_police']\n",
        "total_Intimates=0\n",
        "total_relatives=0\n",
        "total_Well_known=0\n",
        "\n",
        "total_Strangers=0\n",
        "\n",
        "Personal_Victimization_copy[cols]\n",
        "\n",
        "for i in range(len(Personal_Victimization_copy)):\n",
        "    if Personal_Victimization_copy['Victim-offender_relationship'][i] ==1 :\n",
        "        if (Personal_Victimization_copy['Reporting_to_police'][i] ==2) | (Personal_Victimization_copy['Reporting_to_police'][i] ==1):\n",
        "           total_Intimates=total_Intimates+1\n",
        "    else:\n",
        "        if Personal_Victimization_copy['Victim-offender_relationship'][i] ==2 :\n",
        "           if (Personal_Victimization_copy['Reporting_to_police'][i] ==2) | (Personal_Victimization_copy['Reporting_to_police'][i] ==1):\n",
        "              total_relatives=total_relatives+1\n",
        "        else:\n",
        "            if Personal_Victimization_copy['Victim-offender_relationship'][i] ==3 :\n",
        "                if (Personal_Victimization_copy['Reporting_to_police'][i] ==2) | (Personal_Victimization_copy['Reporting_to_police'][i] ==1):\n",
        "                    total_Well_known=total_Well_known+1\n",
        "            else:\n",
        "                if Personal_Victimization_copy['Victim-offender_relationship'][i] ==4 :\n",
        "                    if (Personal_Victimization_copy['Reporting_to_police'][i] ==2) | (Personal_Victimization_copy['Reporting_to_police'][i] ==1):\n",
        "                         total_Strangers=total_Strangers+1\n",
        "#################################\n",
        "Intimates=0\n",
        "relatives=0\n",
        "Well_known=0\n",
        "\n",
        "Strangers=0\n",
        "\n",
        "Personal_Victimization_copy[cols]\n",
        "\n",
        "for i in range(len(Personal_Victimization_copy)):\n",
        "    if Personal_Victimization_copy['Victim-offender_relationship'][i] ==1 :\n",
        "        if Personal_Victimization_copy['Reporting_to_police'][i] ==1:\n",
        "           Intimates=Intimates+1\n",
        "    else:\n",
        "        if Personal_Victimization_copy['Victim-offender_relationship'][i] ==2 :\n",
        "           if Personal_Victimization_copy['Reporting_to_police'][i] ==1:\n",
        "              relatives=relatives+1\n",
        "        else:\n",
        "            if Personal_Victimization_copy['Victim-offender_relationship'][i] ==3 :\n",
        "                if Personal_Victimization_copy['Reporting_to_police'][i]==1:\n",
        "                    Well_known=Well_known+1\n",
        "            else:\n",
        "                if Personal_Victimization_copy['Victim-offender_relationship'][i] ==4 :\n",
        "                    if Personal_Victimization_copy['Reporting_to_police'][i]==1 :\n",
        "                         Strangers=Strangers+1\n",
        "#################################\n",
        "\n",
        "dictionary={\"Intimates\":(Intimates/total_Intimates)*100,\"relatives\":(relatives/total_relatives)*100,\"Well_known\":(Well_known/total_Well_known)*100,\"Strangers\":(Strangers/total_Strangers)*100}\n",
        "print(\"relation of most reported :  \",max(dictionary, key=dictionary.get))\n",
        "\n",
        "import seaborn as sns\n",
        "df = pd.DataFrame(list(dictionary.items()),columns = ['keys','relatoin'])\n",
        "df.plot(kind ='bar',x ='keys',y ='relatoin',color ='blue')\n",
        "plt.xlabel(\"relatives\")\n",
        "plt.ylabel(\"number of being reportes\")\n",
        "plt.title(\"number of relatives and strangers reported\")\n",
        "plt.show()\n",
        "###########################################################################################################################################################3\n",
        "dictionary_2={\"On relationship\":((Intimates+relatives+Well_known)/(total_Intimates+total_relatives+total_Well_known))*100,\"Strangers\":(Strangers/total_Strangers)*100}\n",
        "\n",
        "print(\"relation of most reported :  \",max(dictionary_2, key=dictionary_2.get))\n",
        "\n",
        "\n",
        "import seaborn as sns\n",
        "df = pd.DataFrame(list(dictionary_2.items()),columns = ['keys','On relationship'])\n",
        "df.plot(kind ='bar',x ='keys',y ='On relationship',color ='blue')\n",
        "plt.xlabel(\"relatives\")\n",
        "plt.ylabel(\"number of being reported\")\n",
        "plt.title(\"association between the offender-victim relationship and the likelihood of a crime being reported\")\n",
        "plt.show()\n",
        "\n",
        "print(\"relation of most reported :  \",max(dictionary_2, key=dictionary_2.get))\n",
        "\n",
        "import seaborn as sns\n",
        "df = pd.DataFrame(list(dictionary_2.items()))\n",
        "df.plot(kind ='line',color ='blue')\n",
        "plt.xlabel(\"being stranger\")\n",
        "plt.ylabel(\"reported percentage\")\n",
        "plt.title(\"association between the offender-victim relationship and the likelihood of a crime being reported\")\n",
        "plt.show()"
      ]
    },
    {
      "cell_type": "markdown",
      "metadata": {
        "id": "1GwDqeEkcFM3"
      },
      "source": [
        "Who are the people (the demographic segment) that appear to be most at\n",
        "risk of violent victimization? Who is the least at risk?"
      ]
    },
    {
      "cell_type": "code",
      "execution_count": null,
      "metadata": {
        "colab": {
          "base_uri": "https://localhost:8080/"
        },
        "id": "DUN5oX1DoRz0",
        "outputId": "c9c0df0e-2cca-49b7-fcb8-78ab58e5bbfd"
      },
      "outputs": [
        {
          "data": {
            "text/plain": [
              "Index(['Unique_Person_Identifier', 'Year_QuarterCollected', 'year', 'ager',\n",
              "       'sex', 'hispanic', 'race', 'Race_HispanicOrigin',\n",
              "       'AnnualIncome_Household_Starting2015Q1',\n",
              "       'ImputedIncomeCategories_Starting2017Q1', 'marital', 'Population_size',\n",
              "       'region', 'Location_of_residence',\n",
              "       'Location_of_Household_BJS_Starting2020Q1', 'Education_level',\n",
              "       'Education_level_Starting_from_2003Q1',\n",
              "       'Veteran_Status_Starting_from_2017',\n",
              "       'Citizenship_Status_Starting_from_2017Q1', 'Aggregate_Type_of_crime',\n",
              "       'type_of_crime', 'seriousviolent', 'Reporting_to_police',\n",
              "       'victims_recieved_help', 'crime_location',\n",
              "       'Victim-offender_relationship', 'weapon', 'Weapon_category', 'injury',\n",
              "       'injury_type', 'treatment', 'offenderage', 'offendersex', 'offtracenew',\n",
              "       'Annual_victimization_weight', 'series',\n",
              "       'Series adjusted_victimization_weight'],\n",
              "      dtype='object')"
            ]
          },
          "execution_count": 125,
          "metadata": {},
          "output_type": "execute_result"
        }
      ],
      "source": [
        "Personal_Victimization_copy.columns"
      ]
    },
    {
      "cell_type": "code",
      "execution_count": null,
      "metadata": {
        "colab": {
          "base_uri": "https://localhost:8080/",
          "height": 1000
        },
        "id": "n_nh3cKOcHg2",
        "outputId": "e77e8107-3688-41af-e58e-1f2f596d9f16"
      },
      "outputs": [
        {
          "output_type": "stream",
          "name": "stdout",
          "text": [
            "31959 29455\n",
            "31959 29455 30664\n",
            "most at risk of violent victimization are  age_12_17 males Non_Hispanic_American_Indian\n",
            "least risk of violent victimization are  age_65older females Non_Hispanic_Asian\n"
          ]
        },
        {
          "output_type": "display_data",
          "data": {
            "text/plain": [
              "<Figure size 432x288 with 1 Axes>"
            ],
            "image/png": "[encoded data removed]"
          },
          "metadata": {
            "needs_background": "light"
          }
        },
        {
          "output_type": "display_data",
          "data": {
            "text/plain": [
              "<Figure size 432x288 with 1 Axes>"
            ],
            "image/png": "[encoded data removed]"
          },
          "metadata": {
            "needs_background": "light"
          }
        },
        {
          "output_type": "display_data",
          "data": {
            "text/plain": [
              "<Figure size 432x288 with 1 Axes>"
            ],
            "image/png": "[encoded data removed]"
          },
          "metadata": {
            "needs_background": "light"
          }
        }
      ],
      "source": [
        "#violent -> newcrime 1\n",
        "#demographic -> sex ager offtrace\n",
        "#sex\n",
        "males=0\n",
        "females=0\n",
        "\n",
        "#age\n",
        "age_12_17=0\n",
        "age_18_24=0\n",
        "age_25_34=0\n",
        "age_35_49=0\n",
        "age_50_64=0\n",
        "age_65older=0\n",
        "\n",
        "#race\n",
        "Non_Hispanic_white=0\n",
        "Non_Hispanic_black =0\n",
        "Non_Hispanic_American_Indian=0\n",
        "Non_Hispanic_Asian=0\n",
        "Non_Hispanic_more_than_one_race=0\n",
        "Hispanic=0\n",
        "\n",
        "for i in range(len(Personal_Victimization)):\n",
        "  if Personal_Victimization_copy['Aggregate_Type_of_crime'][i]==1:\n",
        "    if Personal_Victimization_copy['ager'][i]==1:\n",
        "      age_12_17=age_12_17+1\n",
        "    else:\n",
        "        if Personal_Victimization_copy['ager'][i]==2:\n",
        "           age_18_24=age_18_24+1\n",
        "        else:\n",
        "           if Personal_Victimization_copy['ager'][i]==3:\n",
        "              age_25_34=age_25_34+1\n",
        "           else:\n",
        "               if Personal_Victimization_copy['ager'][i]==4:\n",
        "                  age_35_49=age_35_49+1\n",
        "               else:\n",
        "                   if Personal_Victimization_copy['ager'][i]==5:\n",
        "                      age_50_64=age_50_64+1\n",
        "                   else:\n",
        "                      if Personal_Victimization_copy['ager'][i]==6:\n",
        "                          age_65older=age_65older+1\n",
        "\n",
        "#############################3\n",
        "#age\n",
        "total_age_12_17=0\n",
        "total_age_18_24=0\n",
        "total_age_25_34=0\n",
        "total_age_35_49=0\n",
        "total_age_50_64=0\n",
        "total_age_65older=0\n",
        "\n",
        "for i in range(len(Personal_Victimization)):\n",
        "  if (Personal_Victimization_copy['Aggregate_Type_of_crime'][i]==1) |((Personal_Victimization_copy['Aggregate_Type_of_crime'][i]==2)):\n",
        "    if Personal_Victimization_copy['ager'][i]==1:\n",
        "      total_age_12_17=total_age_12_17+1\n",
        "    else:\n",
        "        if Personal_Victimization_copy['ager'][i]==2:\n",
        "           total_age_18_24=total_age_18_24+1\n",
        "        else:\n",
        "           if Personal_Victimization_copy['ager'][i]==3:\n",
        "              total_age_25_34=total_age_25_34+1\n",
        "           else:\n",
        "               if Personal_Victimization_copy['ager'][i]==4:\n",
        "                  total_age_35_49=total_age_35_49+1\n",
        "               else:\n",
        "                   if Personal_Victimization_copy['ager'][i]==5:\n",
        "                      total_age_50_64=total_age_50_64+1\n",
        "                   else:\n",
        "                      if Personal_Victimization_copy['ager'][i]==6:\n",
        "                          total_age_65older=total_age_65older+1\n",
        "\n",
        "##############################\n",
        "\n",
        "dictionary_age={\"age_12_17\":(age_12_17/total_age_12_17)*100,\"age_18_24\":(age_18_24/total_age_18_24)*100,\"age_25_34\":(age_25_34/total_age_25_34)*100,\"age_35_49\":(age_35_49/total_age_35_49)*100,\"age_50_64\":(age_50_64/total_age_50_64)*100,\"age_65older\":(age_65older/total_age_65older)*100}\n",
        "\n",
        "\n",
        "for i in range(len(Personal_Victimization)):\n",
        "  if Personal_Victimization_copy['Aggregate_Type_of_crime'][i]==1:\n",
        "    if Personal_Victimization_copy['sex'][i]==1:\n",
        "      males=males+1\n",
        "    else:\n",
        "        if Personal_Victimization_copy['sex'][i]==2:\n",
        "           females=females+1\n",
        "print(males,females)\n",
        "###############################33\n",
        "total_males=0\n",
        "total_females=0\n",
        "\n",
        "for i in range(len(Personal_Victimization)):\n",
        "  if (Personal_Victimization_copy['Aggregate_Type_of_crime'][i]==1) |((Personal_Victimization_copy['Aggregate_Type_of_crime'][i]==2)):\n",
        "    if Personal_Victimization_copy['sex'][i]==1:\n",
        "      total_males=total_males+1\n",
        "    else:\n",
        "        if Personal_Victimization_copy['sex'][i]==2:\n",
        "           total_females=total_females+1\n",
        "print(males,females,total_females)\n",
        "##################################3\n",
        "dictionary_sex={\"males\":(males/total_males)*100,\"females\":(females/total_females)*100}\n",
        "\n",
        "for i in range(len(Personal_Victimization)):\n",
        "  if Personal_Victimization_copy['Aggregate_Type_of_crime'][i]==1:\n",
        "        if Personal_Victimization_copy['Race_HispanicOrigin'][i]==1:\n",
        "           Non_Hispanic_white=Non_Hispanic_white+1\n",
        "        else:\n",
        "           if Personal_Victimization_copy['Race_HispanicOrigin'][i]==2:\n",
        "              Non_Hispanic_black=Non_Hispanic_black+1\n",
        "           else:\n",
        "               if Personal_Victimization_copy['Race_HispanicOrigin'][i]==3:\n",
        "                  Non_Hispanic_American_Indian=Non_Hispanic_American_Indian+1\n",
        "               else:\n",
        "                   if Personal_Victimization_copy['Race_HispanicOrigin'][i]==4:\n",
        "                      Non_Hispanic_Asian=Non_Hispanic_Asian+1\n",
        "                   else:\n",
        "                      if Personal_Victimization_copy['Race_HispanicOrigin'][i]==5:\n",
        "                          Non_Hispanic_more_than_one_race=Non_Hispanic_more_than_one_race+1\n",
        "                      else:\n",
        "                          if Personal_Victimization_copy['Race_HispanicOrigin'][i]==6:\n",
        "                              Hispanic=Hispanic+1\n",
        "###############################################################################3\n",
        "total_Non_Hispanic_white=0\n",
        "total_Non_Hispanic_black =0\n",
        "total_Non_Hispanic_American_Indian=0\n",
        "total_Non_Hispanic_Asian=0\n",
        "total_Non_Hispanic_more_than_one_race=0\n",
        "total_Hispanic=0\n",
        "\n",
        "for i in range(len(Personal_Victimization)):\n",
        "  if (Personal_Victimization_copy['Aggregate_Type_of_crime'][i]==1) |((Personal_Victimization_copy['Aggregate_Type_of_crime'][i]==2)):\n",
        "        if Personal_Victimization_copy['Race_HispanicOrigin'][i]==1:\n",
        "           total_Non_Hispanic_white=total_Non_Hispanic_white+1\n",
        "        else:\n",
        "           if Personal_Victimization_copy['Race_HispanicOrigin'][i]==2:\n",
        "              total_Non_Hispanic_black=total_Non_Hispanic_black+1\n",
        "           else:\n",
        "               if Personal_Victimization_copy['Race_HispanicOrigin'][i]==3:\n",
        "                  total_Non_Hispanic_American_Indian=total_Non_Hispanic_American_Indian+1\n",
        "               else:\n",
        "                   if Personal_Victimization_copy['Race_HispanicOrigin'][i]==4:\n",
        "                      total_Non_Hispanic_Asian=total_Non_Hispanic_Asian+1\n",
        "                   else:\n",
        "                      if Personal_Victimization_copy['Race_HispanicOrigin'][i]==5:\n",
        "                          total_Non_Hispanic_more_than_one_race=total_Non_Hispanic_more_than_one_race+1\n",
        "                      else:\n",
        "                          if Personal_Victimization_copy['Race_HispanicOrigin'][i]==6:\n",
        "                              total_Hispanic=total_Hispanic+1\n",
        "################################################################################\n",
        "\n",
        "dictionary_race={\"Non_Hispanic_white\":(Non_Hispanic_white/total_Non_Hispanic_white)*100,\n",
        "                 \"Non_Hispanic_black\":(Non_Hispanic_black/total_Non_Hispanic_black)*100,\n",
        "                  \"Non_Hispanic_American_Indian\":(Non_Hispanic_American_Indian/total_Non_Hispanic_American_Indian)*100,\n",
        "                  \"Non_Hispanic_Asian\":(Non_Hispanic_Asian/total_Non_Hispanic_Asian)*100,\n",
        "                  \"Non_Hispanic_more_than_one_race\":(Non_Hispanic_more_than_one_race/total_Non_Hispanic_more_than_one_race)*100,\n",
        "                  \"Hispanic\":(Hispanic/total_Hispanic)*100}\n",
        "#race???????\n",
        "\n",
        "\n",
        "print(\"most at risk of violent victimization are \",max(dictionary_age, key=dictionary_age.get),max(dictionary_sex, key=dictionary_sex.get),max(dictionary_race, key=dictionary_race.get))\n",
        "print(\"least risk of violent victimization are \",min(dictionary_age, key=dictionary_age.get),min(dictionary_sex, key=dictionary_sex.get),min(dictionary_race,key=dictionary_race.get))\n",
        "#??????????????????????????????????????????\n",
        "\n",
        "df = pd.DataFrame(list(dictionary_age.items()),columns = ['keys','age'])\n",
        "df.plot(kind ='bar',x ='keys',y ='age',color ='blue')\n",
        "plt.xlabel(\"age\")\n",
        "plt.ylabel(\"number of victims\")\n",
        "plt.title(\"age and violent victimization\")\n",
        "plt.show()\n",
        "###########################################################################################################################################################3\n",
        "df = pd.DataFrame(list(dictionary_sex.items()),columns = ['keys','sex'])\n",
        "df.plot(kind ='bar',x ='keys',y ='sex',color ='blue')\n",
        "plt.xlabel(\"gender\")\n",
        "plt.ylabel(\"number of victims\")\n",
        "plt.title(\"Females and males\")\n",
        "plt.show()\n",
        "#########################################################################3\n",
        "df = pd.DataFrame(list(dictionary_race.items()),columns = ['keys','race'])\n",
        "df.plot(kind='bar',x ='keys',y ='race',color ='blue')\n",
        "plt.xlabel(\"race\")\n",
        "plt.ylabel(\"number of victims\")\n",
        "plt.title(\"race and violent victimization\")\n",
        "plt.show()"
      ]
    },
    {
      "cell_type": "markdown",
      "metadata": {
        "id": "2E23t-MlqVOS"
      },
      "source": [
        "Of all victims of non-fatal crimes who suffer an injury, which demographic\n",
        "is the most likely to receive medical attention at the scene? Which is the\n",
        "least likely?"
      ]
    },
    {
      "cell_type": "code",
      "execution_count": null,
      "metadata": {
        "colab": {
          "base_uri": "https://localhost:8080/",
          "height": 1000
        },
        "id": "6alfe8jwqZ3r",
        "outputId": "bebc4c3c-d379-4470-a4a5-652e531df90d"
      },
      "outputs": [
        {
          "output_type": "stream",
          "name": "stdout",
          "text": [
            "1151 1290 1598 1690 791 222\n",
            "more likely to recieve treatement :  age_65older males Non_Hispanic_black\n"
          ]
        },
        {
          "output_type": "display_data",
          "data": {
            "text/plain": [
              "<Figure size 432x288 with 1 Axes>"
            ],
            "image/png": "[encoded data removed]"
          },
          "metadata": {
            "needs_background": "light"
          }
        },
        {
          "output_type": "display_data",
          "data": {
            "text/plain": [
              "<Figure size 432x288 with 1 Axes>"
            ],
            "image/png": "[encoded data removed]"
          },
          "metadata": {
            "needs_background": "light"
          }
        },
        {
          "output_type": "display_data",
          "data": {
            "text/plain": [
              "<Figure size 432x288 with 1 Axes>"
            ],
            "image/png": "[encoded data removed]"
          },
          "metadata": {
            "needs_background": "light"
          }
        }
      ],
      "source": [
        "#treatment-> treated 2\n",
        "#demographic -> sex ager offtrace\n",
        "#sex\n",
        "males=0\n",
        "females=0\n",
        "\n",
        "#age\n",
        "age_12_17=0\n",
        "age_18_24=0\n",
        "age_25_34=0\n",
        "age_35_49=0\n",
        "age_50_64=0\n",
        "age_65older=0\n",
        "\n",
        "#race\n",
        "Non_Hispanic_white=0\n",
        "Non_Hispanic_black =0\n",
        "Non_Hispanic_American_Indian=0\n",
        "Non_Hispanic_Asian=0\n",
        "Non_Hispanic_more_than_one_race=0\n",
        "Hispanic=0\n",
        "\n",
        "for i in range(len(Personal_Victimization)):\n",
        "  if Personal_Victimization_copy['treatment'][i]==2:\n",
        "    if Personal_Victimization_copy['ager'][i]==1:\n",
        "      age_12_17=age_12_17+1\n",
        "    else:\n",
        "        if Personal_Victimization_copy['ager'][i]==2:\n",
        "           age_18_24=age_18_24+1\n",
        "        else:\n",
        "           if Personal_Victimization_copy['ager'][i]==3:\n",
        "              age_25_34=age_25_34+1\n",
        "           else:\n",
        "               if Personal_Victimization_copy['ager'][i]==4:\n",
        "                  age_35_49=age_35_49+1\n",
        "               else:\n",
        "                   if Personal_Victimization_copy['ager'][i]==5:\n",
        "                      age_50_64=age_50_64+1\n",
        "                   else:\n",
        "                      if Personal_Victimization_copy['ager'][i]==6:\n",
        "                          age_65older=age_65older+1\n",
        "###########################################################################\n",
        "#############################3\n",
        "#age\n",
        "total_age_12_17=0\n",
        "total_age_18_24=0\n",
        "total_age_25_34=0\n",
        "total_age_35_49=0\n",
        "total_age_50_64=0\n",
        "total_age_65older=0\n",
        "\n",
        "for i in range(len(Personal_Victimization)):\n",
        "  if (Personal_Victimization_copy['treatment'][i]==2) |(Personal_Victimization_copy['treatment'][i]==1):\n",
        "    if Personal_Victimization_copy['ager'][i]==1:\n",
        "      total_age_12_17=total_age_12_17+1\n",
        "    else:\n",
        "        if Personal_Victimization_copy['ager'][i]==2:\n",
        "           total_age_18_24=total_age_18_24+1\n",
        "        else:\n",
        "           if Personal_Victimization_copy['ager'][i]==3:\n",
        "              total_age_25_34=total_age_25_34+1\n",
        "           else:\n",
        "               if Personal_Victimization_copy['ager'][i]==4:\n",
        "                  total_age_35_49=total_age_35_49+1\n",
        "               else:\n",
        "                   if Personal_Victimization_copy['ager'][i]==5:\n",
        "                      total_age_50_64=total_age_50_64+1\n",
        "                   else:\n",
        "                      if Personal_Victimization_copy['ager'][i]==6:\n",
        "                          total_age_65older=total_age_65older+1\n",
        "\n",
        "##############################\n",
        "\n",
        "###########################################################################\n",
        "\n",
        "dictionary_age={\"age_12_17\":(age_12_17/total_age_12_17)*100,\"age_18_24\":(age_18_24/total_age_18_24)*100,\"age_25_34\":(age_25_34/total_age_25_34)*100,\"age_35_49\":(age_35_49/total_age_35_49)*100,\"age_50_64\":(age_50_64/total_age_50_64)*100,\"age_65older\":(age_65older/total_age_65older)*100}\n",
        "\n",
        "print(age_12_17,age_18_24,age_25_34,age_35_49,age_50_64,age_65older)\n",
        "\n",
        "for i in range(len(Personal_Victimization)):\n",
        "  if Personal_Victimization_copy['treatment'][i]==2:\n",
        "    if Personal_Victimization_copy['sex'][i]==1:\n",
        "      males=males+1\n",
        "    else:\n",
        "        if Personal_Victimization_copy['sex'][i]==2:\n",
        "           females=females+1\n",
        "\n",
        "############################################################################\n",
        "###############################33\n",
        "total_males=0\n",
        "total_females=0\n",
        "\n",
        "for i in range(len(Personal_Victimization)):\n",
        "  if (Personal_Victimization_copy['treatment'][i]==2) |(Personal_Victimization_copy['treatment'][i]==1):\n",
        "    if Personal_Victimization_copy['sex'][i]==1:\n",
        "      total_males=total_males+1\n",
        "    else:\n",
        "        if Personal_Victimization_copy['sex'][i]==2:\n",
        "           total_females=total_females+1\n",
        "\n",
        "##################################3\n",
        "############################################################################\n",
        "\n",
        "\n",
        "\n",
        "\n",
        "\n",
        "dictionary_sex={\"males\":(males/total_males)*100,\"females\":(females/total_females)*100}\n",
        "\n",
        "for i in range(len(Personal_Victimization)):\n",
        "  if Personal_Victimization_copy['treatment'][i]==2:\n",
        "        if Personal_Victimization_copy['Race_HispanicOrigin'][i]==1:\n",
        "           Non_Hispanic_white=Non_Hispanic_white+1\n",
        "        else:\n",
        "           if Personal_Victimization_copy['Race_HispanicOrigin'][i]==2:\n",
        "              Non_Hispanic_black=Non_Hispanic_black+1\n",
        "           else:\n",
        "               if Personal_Victimization_copy['Race_HispanicOrigin'][i]==3:\n",
        "                  Non_Hispanic_American_Indian=Non_Hispanic_American_Indian+1\n",
        "               else:\n",
        "                   if Personal_Victimization_copy['Race_HispanicOrigin'][i]==4:\n",
        "                      Non_Hispanic_Asian=Non_Hispanic_Asian+1\n",
        "                   else:\n",
        "                      if Personal_Victimization_copy['Race_HispanicOrigin'][i]==5:\n",
        "                          Non_Hispanic_more_than_one_race=Non_Hispanic_more_than_one_race+1\n",
        "                      else:\n",
        "                          if Personal_Victimization_copy['Race_HispanicOrigin'][i]==6:\n",
        "                              Hispanic=Hispanic+1\n",
        "############################################################\n",
        "###############################################################################3\n",
        "total_Non_Hispanic_white=0\n",
        "total_Non_Hispanic_black =0\n",
        "total_Non_Hispanic_American_Indian=0\n",
        "total_Non_Hispanic_Asian=0\n",
        "total_Non_Hispanic_more_than_one_race=0\n",
        "total_Hispanic=0\n",
        "\n",
        "for i in range(len(Personal_Victimization)):\n",
        "  if (Personal_Victimization_copy['treatment'][i]==2) |(Personal_Victimization_copy['treatment'][i]==1):\n",
        "        if Personal_Victimization_copy['Race_HispanicOrigin'][i]==1:\n",
        "           total_Non_Hispanic_white=total_Non_Hispanic_white+1\n",
        "        else:\n",
        "           if Personal_Victimization_copy['Race_HispanicOrigin'][i]==2:\n",
        "              total_Non_Hispanic_black=total_Non_Hispanic_black+1\n",
        "           else:\n",
        "               if Personal_Victimization_copy['Race_HispanicOrigin'][i]==3:\n",
        "                  total_Non_Hispanic_American_Indian=total_Non_Hispanic_American_Indian+1\n",
        "               else:\n",
        "                   if Personal_Victimization_copy['Race_HispanicOrigin'][i]==4:\n",
        "                      total_Non_Hispanic_Asian=total_Non_Hispanic_Asian+1\n",
        "                   else:\n",
        "                      if Personal_Victimization_copy['Race_HispanicOrigin'][i]==5:\n",
        "                          total_Non_Hispanic_more_than_one_race=total_Non_Hispanic_more_than_one_race+1\n",
        "                      else:\n",
        "                          if Personal_Victimization_copy['Race_HispanicOrigin'][i]==6:\n",
        "                              total_Hispanic=total_Hispanic+1\n",
        "################################################################################\n",
        "############################################################\n",
        "\n",
        "dictionary_race={\"Non_Hispanic_white\":(Non_Hispanic_white/total_Non_Hispanic_white)*100,\n",
        "                 \"Non_Hispanic_black\":(Non_Hispanic_black/total_Non_Hispanic_black)*100,\n",
        "                  \"Non_Hispanic_American_Indian\":(Non_Hispanic_American_Indian/total_Non_Hispanic_American_Indian)*100,\n",
        "                  \"Non_Hispanic_Asian\":(Non_Hispanic_Asian/total_Non_Hispanic_Asian)*100,\n",
        "                  \"Non_Hispanic_more_than_one_race\":(Non_Hispanic_more_than_one_race/total_Non_Hispanic_more_than_one_race)*100,\n",
        "                  \"Hispanic\":(Hispanic/total_Hispanic)*100}\n",
        "#race???????\n",
        "\n",
        "\n",
        "print(\"more likely to recieve treatement : \",max(dictionary_age,key=dictionary_age.get),max(dictionary_sex,key=dictionary_sex.get),max(dictionary_race,key=dictionary_race.get))\n",
        "df = pd.DataFrame(list(dictionary_age.items()),columns = ['keys','age'])\n",
        "df.plot(kind ='bar',x ='keys',y ='age',color ='blue')\n",
        "plt.xlabel(\"age\")\n",
        "plt.ylabel(\"number of treated\")\n",
        "plt.title(\"age and treatment\")\n",
        "plt.show()\n",
        "###########################################################################################################################################################3\n",
        "df = pd.DataFrame(list(dictionary_sex.items()),columns = ['keys','sex'])\n",
        "df.plot(kind ='bar',x ='keys',y ='sex',color ='blue')\n",
        "plt.xlabel(\"gender\")\n",
        "plt.ylabel(\"number of treated\")\n",
        "plt.title(\"Females and males\")\n",
        "plt.show()\n",
        "#########################################################################3\n",
        "df = pd.DataFrame(list(dictionary_race.items()),columns = ['keys','race'])\n",
        "df.plot(kind ='bar',x ='keys',y ='race',color ='blue')\n",
        "plt.xlabel(\"race\")\n",
        "plt.ylabel(\"number of treated\")\n",
        "plt.title(\"race and treatments\")\n",
        "plt.show()"
      ]
    },
    {
      "cell_type": "code",
      "execution_count": null,
      "metadata": {
        "colab": {
          "base_uri": "https://localhost:8080/",
          "height": 1000
        },
        "id": "T8Av6zag4rsi",
        "outputId": "e150ff88-a8d8-45b5-be85-f6146d0222b7"
      },
      "outputs": [
        {
          "output_type": "stream",
          "name": "stdout",
          "text": [
            "2041 2028 1766 1900 820 203\n",
            "3744 5014\n",
            "3744 5014 8517\n",
            "{'males': 53.61592438779894, 'females': 58.87049430550664}\n",
            "least likely to recieve treatement :  age_12_17 females Non_Hispanic_more_than_one_race\n"
          ]
        },
        {
          "output_type": "display_data",
          "data": {
            "text/plain": [
              "<Figure size 432x288 with 1 Axes>"
            ],
            "image/png": "[encoded data removed]"
          },
          "metadata": {
            "needs_background": "light"
          }
        },
        {
          "output_type": "display_data",
          "data": {
            "text/plain": [
              "<Figure size 432x288 with 1 Axes>"
            ],
            "image/png": "[encoded data removed]"
          },
          "metadata": {
            "needs_background": "light"
          }
        },
        {
          "output_type": "display_data",
          "data": {
            "text/plain": [
              "<Figure size 432x288 with 1 Axes>"
            ],
            "image/png": "[encoded data removed]"
          },
          "metadata": {
            "needs_background": "light"
          }
        }
      ],
      "source": [
        "##treatment-> treated 2\n",
        "#demographic -> sex ager offtrace\n",
        "#sex\n",
        "males=0\n",
        "females=0\n",
        "\n",
        "#age\n",
        "age_12_17=0\n",
        "age_18_24=0\n",
        "age_25_34=0\n",
        "age_35_49=0\n",
        "age_50_64=0\n",
        "age_65older=0\n",
        "\n",
        "#race\n",
        "Non_Hispanic_white=0\n",
        "Non_Hispanic_black =0\n",
        "Non_Hispanic_American_Indian=0\n",
        "Non_Hispanic_Asian=0\n",
        "Non_Hispanic_more_than_one_race=0\n",
        "Hispanic=0\n",
        "\n",
        "\n",
        "for i in range(len(Personal_Victimization)):\n",
        "  if Personal_Victimization_copy['treatment'][i]==1:\n",
        "    if Personal_Victimization_copy['ager'][i]==1:\n",
        "      age_12_17=age_12_17+1\n",
        "    else:\n",
        "        if Personal_Victimization_copy['ager'][i]==2:\n",
        "           age_18_24=age_18_24+1\n",
        "        else:\n",
        "           if Personal_Victimization_copy['ager'][i]==3:\n",
        "              age_25_34=age_25_34+1\n",
        "           else:\n",
        "               if Personal_Victimization_copy['ager'][i]==4:\n",
        "                  age_35_49=age_35_49+1\n",
        "               else:\n",
        "                   if Personal_Victimization_copy['ager'][i]==5:\n",
        "                      age_50_64=age_50_64+1\n",
        "                   else:\n",
        "                      if Personal_Victimization_copy['ager'][i]==6:\n",
        "                          age_65older=age_65older+1\n",
        "###########################################################################\n",
        "#############################3\n",
        "#age\n",
        "total_age_12_17=0\n",
        "total_age_18_24=0\n",
        "total_age_25_34=0\n",
        "total_age_35_49=0\n",
        "total_age_50_64=0\n",
        "total_age_65older=0\n",
        "\n",
        "for i in range(len(Personal_Victimization)):\n",
        "  if (Personal_Victimization_copy['treatment'][i]==2) |(Personal_Victimization_copy['treatment'][i]==1):\n",
        "    if Personal_Victimization_copy['ager'][i]==1:\n",
        "      total_age_12_17=total_age_12_17+1\n",
        "    else:\n",
        "        if Personal_Victimization_copy['ager'][i]==2:\n",
        "           total_age_18_24=total_age_18_24+1\n",
        "        else:\n",
        "           if Personal_Victimization_copy['ager'][i]==3:\n",
        "              total_age_25_34=total_age_25_34+1\n",
        "           else:\n",
        "               if Personal_Victimization_copy['ager'][i]==4:\n",
        "                  total_age_35_49=total_age_35_49+1\n",
        "               else:\n",
        "                   if Personal_Victimization_copy['ager'][i]==5:\n",
        "                      total_age_50_64=total_age_50_64+1\n",
        "                   else:\n",
        "                      if Personal_Victimization_copy['ager'][i]==6:\n",
        "                          total_age_65older=total_age_65older+1\n",
        "\n",
        "##############################\n",
        "\n",
        "###########################################################################\n",
        "\n",
        "dictionary_age={\"age_12_17\":(age_12_17/total_age_12_17)*100,\"age_18_24\":(age_18_24/total_age_18_24)*100,\"age_25_34\":(age_25_34/total_age_25_34)*100,\"age_35_49\":(age_35_49/total_age_35_49)*100,\"age_50_64\":(age_50_64/total_age_50_64)*100,\"age_65older\":(age_65older/total_age_65older)*100}\n",
        "\n",
        "\n",
        "\n",
        "print(age_12_17,age_18_24,age_25_34,age_35_49,age_50_64,age_65older)\n",
        "\n",
        "for i in range(len(Personal_Victimization)):\n",
        "  if Personal_Victimization_copy['treatment'][i]==1:\n",
        "    if Personal_Victimization_copy['sex'][i]==1:\n",
        "      males=males+1\n",
        "    else:\n",
        "        if Personal_Victimization_copy['sex'][i]==2:\n",
        "           females=females+1\n",
        "print(males,females)\n",
        "############################################################################\n",
        "###############################33\n",
        "total_males=0\n",
        "total_females=0\n",
        "\n",
        "for i in range(len(Personal_Victimization)):\n",
        "  if (Personal_Victimization_copy['treatment'][i]==2) |(Personal_Victimization_copy['treatment'][i]==1):\n",
        "    if Personal_Victimization_copy['sex'][i]==1:\n",
        "      total_males=total_males+1\n",
        "    else:\n",
        "        if Personal_Victimization_copy['sex'][i]==2:\n",
        "           total_females=total_females+1\n",
        "print(males,females,total_females)\n",
        "##################################3\n",
        "############################################################################\n",
        "\n",
        "\n",
        "\n",
        "\n",
        "\n",
        "dictionary_sex={\"males\":(males/total_males)*100,\"females\":(females/total_females)*100}\n",
        "print(dictionary_sex)\n",
        "\n",
        "for i in range(len(Personal_Victimization)):\n",
        "  if Personal_Victimization_copy['treatment'][i]==1:\n",
        "        if Personal_Victimization_copy['Race_HispanicOrigin'][i]==1:\n",
        "           Non_Hispanic_white=Non_Hispanic_white+1\n",
        "        else:\n",
        "           if Personal_Victimization_copy['Race_HispanicOrigin'][i]==2:\n",
        "              Non_Hispanic_black=Non_Hispanic_black+1\n",
        "           else:\n",
        "               if Personal_Victimization_copy['Race_HispanicOrigin'][i]==3:\n",
        "                  Non_Hispanic_American_Indian=Non_Hispanic_American_Indian+1\n",
        "               else:\n",
        "                   if Personal_Victimization_copy['Race_HispanicOrigin'][i]==4:\n",
        "                      Non_Hispanic_Asian=Non_Hispanic_Asian+1\n",
        "                   else:\n",
        "                      if Personal_Victimization_copy['Race_HispanicOrigin'][i]==5:\n",
        "                          Non_Hispanic_more_than_one_race=Non_Hispanic_more_than_one_race+1\n",
        "                      else:\n",
        "                          if Personal_Victimization_copy['Race_HispanicOrigin'][i]==6:\n",
        "                              Hispanic=Hispanic+1\n",
        "###############################################################################3\n",
        "total_Non_Hispanic_white=0\n",
        "total_Non_Hispanic_black =0\n",
        "total_Non_Hispanic_American_Indian=0\n",
        "total_Non_Hispanic_Asian=0\n",
        "total_Non_Hispanic_more_than_one_race=0\n",
        "total_Hispanic=0\n",
        "\n",
        "for i in range(len(Personal_Victimization)):\n",
        "  if (Personal_Victimization_copy['treatment'][i]==2) |(Personal_Victimization_copy['treatment'][i]==1):\n",
        "        if Personal_Victimization_copy['Race_HispanicOrigin'][i]==1:\n",
        "           total_Non_Hispanic_white=total_Non_Hispanic_white+1\n",
        "        else:\n",
        "           if Personal_Victimization_copy['Race_HispanicOrigin'][i]==2:\n",
        "              total_Non_Hispanic_black=total_Non_Hispanic_black+1\n",
        "           else:\n",
        "               if Personal_Victimization_copy['Race_HispanicOrigin'][i]==3:\n",
        "                  total_Non_Hispanic_American_Indian=total_Non_Hispanic_American_Indian+1\n",
        "               else:\n",
        "                   if Personal_Victimization_copy['Race_HispanicOrigin'][i]==4:\n",
        "                      total_Non_Hispanic_Asian=total_Non_Hispanic_Asian+1\n",
        "                   else:\n",
        "                      if Personal_Victimization_copy['Race_HispanicOrigin'][i]==5:\n",
        "                          total_Non_Hispanic_more_than_one_race=total_Non_Hispanic_more_than_one_race+1\n",
        "                      else:\n",
        "                          if Personal_Victimization_copy['Race_HispanicOrigin'][i]==6:\n",
        "                              total_Hispanic=total_Hispanic+1\n",
        "################################################################################\n",
        "############################################################\n",
        "\n",
        "dictionary_race={\"Non_Hispanic_white\":(Non_Hispanic_white/total_Non_Hispanic_white)*100,\n",
        "                 \"Non_Hispanic_black\":(Non_Hispanic_black/total_Non_Hispanic_black)*100,\n",
        "                  \"Non_Hispanic_American_Indian\":(Non_Hispanic_American_Indian/total_Non_Hispanic_American_Indian)*100,\n",
        "                  \"Non_Hispanic_Asian\":(Non_Hispanic_Asian/total_Non_Hispanic_Asian)*100,\n",
        "                  \"Non_Hispanic_more_than_one_race\":(Non_Hispanic_more_than_one_race/total_Non_Hispanic_more_than_one_race)*100,\n",
        "                  \"Hispanic\":(Hispanic/total_Hispanic)*100}\n",
        "#race???????\n",
        "#race???????\n",
        "\n",
        "print(\"least likely to recieve treatement : \",max(dictionary_age,key=dictionary_age.get),max(dictionary_sex,key=dictionary_sex.get),max(dictionary_race,key=dictionary_race.get))\n",
        "\n",
        "\n",
        "df = pd.DataFrame(list(dictionary_age.items()),columns = ['keys','age'])\n",
        "df.plot(kind ='bar',x ='keys',y ='age',color ='blue')\n",
        "plt.xlabel(\"age\")\n",
        "plt.ylabel(\"number of nontreated people\")\n",
        "plt.title(\"age and treatements\")\n",
        "plt.show()\n",
        "###########################################################################################################################################################3\n",
        "df = pd.DataFrame(list(dictionary_sex.items()),columns = ['keys','sex'])\n",
        "df.plot(kind ='bar',x ='keys',y ='sex',color ='blue')\n",
        "plt.xlabel(\"gender\")\n",
        "plt.ylabel(\"number of nontreated people\")\n",
        "plt.title(\"Females and males\")\n",
        "plt.show()\n",
        "#########################################################################3\n",
        "df = pd.DataFrame(list(dictionary_race.items()),columns = ['keys','race'])\n",
        "df.plot(kind ='bar',x ='keys',y ='race',color ='blue')\n",
        "plt.xlabel(\"race\")\n",
        "plt.ylabel(\"number of nontreated people\")\n",
        "plt.title(\"race and treatments\")\n",
        "plt.show()"
      ]
    },
    {
      "cell_type": "markdown",
      "metadata": {
        "id": "zhKD71ryqhgy"
      },
      "source": [
        "Which class of crimes is associated with the highest rate of\n",
        "same-offense-recidivism; i.e. prison re-entry for the same offense within 3\n",
        "years of release?"
      ]
    },
    {
      "cell_type": "code",
      "execution_count": null,
      "metadata": {
        "colab": {
          "base_uri": "https://localhost:8080/"
        },
        "id": "4ArjG1ouqluM",
        "outputId": "1e5544d7-92c5-455e-b511-64037ee06136"
      },
      "outputs": [
        {
          "output_type": "execute_result",
          "data": {
            "text/plain": [
              "<bound method NDFrame.head of 0        False\n",
              "1         True\n",
              "2         True\n",
              "3        False\n",
              "4         True\n",
              "         ...  \n",
              "25830     True\n",
              "25831     True\n",
              "25832     True\n",
              "25833    False\n",
              "25834     True\n",
              "Name: recidivism_within_3years, Length: 25835, dtype: bool>"
            ]
          },
          "metadata": {},
          "execution_count": 38
        }
      ],
      "source": [
        "Georgea_data.columns\n",
        "Georgea_data['prison_offense']\n",
        "Georgea_data['recidivism_within_3years']\n",
        "cols=['prison_offense','recidivism_within_3years']\n",
        "Georgea_data_copy=Georgea_data\n",
        "Georgea_data_copy['recidivism_within_3years'] = Georgea_data_copy['recidivism_within_3years'].replace({ 'TRUE': 1,'FALSE': 0})\n",
        "Georgea_data_copy['prison_offense'] = Georgea_data_copy['prison_offense'].replace({'Drug':1 ,'Violent/Non-Sex':2 ,'Property':3 ,'Other' :4,'Violent/Sex':5})\n",
        "Georgea_data_copy['recidivism_within_3years'].head"
      ]
    },
    {
      "cell_type": "code",
      "execution_count": null,
      "metadata": {
        "colab": {
          "base_uri": "https://localhost:8080/"
        },
        "id": "6vVwi-KKMOaq",
        "outputId": "084c4496-658c-4839-e49b-ce3c8787e05c"
      },
      "outputs": [
        {
          "output_type": "execute_result",
          "data": {
            "text/plain": [
              "<bound method NDFrame.head of 0        1\n",
              "1        2\n",
              "2        1\n",
              "3        3\n",
              "4        2\n",
              "        ..\n",
              "25830    3\n",
              "25831    3\n",
              "25832    3\n",
              "25833    3\n",
              "25834    3\n",
              "Name: prison_offense, Length: 25835, dtype: int64>"
            ]
          },
          "metadata": {},
          "execution_count": 39
        }
      ],
      "source": [
        "Georgea_data_copy['prison_offense'].head\n",
        "Georgea_data['prison_offense'].head\n"
      ]
    },
    {
      "cell_type": "code",
      "execution_count": null,
      "metadata": {
        "colab": {
          "base_uri": "https://localhost:8080/",
          "height": 400
        },
        "id": "fxD-ScCkK2av",
        "outputId": "1ff23c93-69bd-4aaa-b137-79790a65d83b"
      },
      "outputs": [
        {
          "output_type": "stream",
          "name": "stdout",
          "text": [
            "[1 2 3 4 5]\n",
            "higher rate offenses :  Property\n"
          ]
        },
        {
          "output_type": "display_data",
          "data": {
            "text/plain": [
              "<Figure size 432x288 with 1 Axes>"
            ],
            "image/png": "[encoded data removed]"
          },
          "metadata": {
            "needs_background": "light"
          }
        }
      ],
      "source": [
        "georgea_offenses=Georgea_data_copy['prison_offense'].unique()\n",
        "print(georgea_offenses)\n",
        "Drug=0\n",
        "Violent_Non_Sex=0\n",
        "Property=0\n",
        "Other =0\n",
        "Violent_Sex=0\n",
        "\n",
        "for i in range(len(Georgea_data_copy)):\n",
        "  if Georgea_data_copy['recidivism_within_3years'][i]==1:\n",
        "    if Georgea_data_copy['prison_offense'][i]==1:\n",
        "      Drug=Drug+1\n",
        "    else:\n",
        "        if Georgea_data_copy['prison_offense'][i]==2:\n",
        "           Violent_Non_Sex=Violent_Non_Sex+1\n",
        "        else:\n",
        "           if Georgea_data_copy['prison_offense'][i]==3:\n",
        "              Property=Property+1\n",
        "           else:\n",
        "               if Georgea_data_copy['prison_offense'][i]==4:\n",
        "                  Other=Other+1\n",
        "               else:\n",
        "                   if Georgea_data_copy['prison_offense'][i]==5:\n",
        "                      Violent_Sex=Violent_Sex+1\n",
        "#####################################################################################\n",
        "totalDrug=0\n",
        "totalViolent_Non_Sex=0\n",
        "totalProperty=0\n",
        "totalOther =0\n",
        "totalViolent_Sex=0\n",
        "\n",
        "for i in range(len(Georgea_data_copy)):\n",
        "  if (Georgea_data_copy['recidivism_within_3years'][i]==1)|(Georgea_data_copy['recidivism_within_3years'][i]==0):\n",
        "    if Georgea_data_copy['prison_offense'][i]==1:\n",
        "      totalDrug=totalDrug+1\n",
        "    else:\n",
        "        if Georgea_data_copy['prison_offense'][i]==2:\n",
        "           totalViolent_Non_Sex=totalViolent_Non_Sex+1\n",
        "        else:\n",
        "           if Georgea_data_copy['prison_offense'][i]==3:\n",
        "              totalProperty=totalProperty+1\n",
        "           else:\n",
        "               if Georgea_data_copy['prison_offense'][i]==4:\n",
        "                  totalOther=totalOther+1\n",
        "               else:\n",
        "                   if Georgea_data_copy['prison_offense'][i]==5:\n",
        "                      totalViolent_Sex=totalViolent_Sex+1\n",
        "###################################################################################\n",
        "dictionary_offenses={ \"Drug\":(Drug/totalDrug) *100 ,\n",
        "                     \"Violent/Non-Sex\":(Violent_Non_Sex/totalViolent_Non_Sex)*100 ,\n",
        "                     \"Property\":(Property/totalProperty)*100 ,\n",
        "                     \"Other\" : (Other/totalOther)*100,\n",
        "                     \"Violent/Sex\":(Violent_Sex/totalViolent_Sex)*100}\n",
        "print(\"higher rate offenses : \",max(dictionary_offenses,key=dictionary_offenses.get))\n",
        "\n",
        "df = pd.DataFrame(list(dictionary_offenses.items()),columns = ['keys','Offense'])\n",
        "df.plot(kind ='bar',x ='keys',y ='Offense',color ='blue')\n",
        "plt.xlabel(\"offenses\")\n",
        "plt.ylabel(\"counts\")\n",
        "plt.title(\"offenses and their occurance in georgea\")\n",
        "plt.show()"
      ]
    },
    {
      "cell_type": "markdown",
      "metadata": {
        "id": "U1SzFRfjqlLk"
      },
      "source": [
        "Are prisoners who are younger at the time of release more or less likely to\n",
        "reoffend than those who are older?"
      ]
    },
    {
      "cell_type": "code",
      "execution_count": null,
      "metadata": {
        "id": "Ryvq17YFqqbD"
      },
      "outputs": [],
      "source": []
    },
    {
      "cell_type": "markdown",
      "metadata": {
        "id": "9gjOEfl7m3Ii"
      },
      "source": [
        "# **PART 4: Hypothesis Testing:**\n",
        "Considering that the strictness of applying rules can be measured from the total of all rules in the column (lawtotal)"
      ]
    },
    {
      "cell_type": "markdown",
      "source": [
        "## **4.1 Formulate a hypothesis test to assess the validity of this claim given the available data:**"
      ],
      "metadata": {
        "id": "ahz7EkbkyR55"
      }
    },
    {
      "cell_type": "markdown",
      "metadata": {
        "id": "hfb2cLoOc9io"
      },
      "source": [
        "1. **Defining Hypothesis:**\n",
        "All the data are obtained from the different states, so the data is unpaired.\n",
        "\n",
        "H₀: μₛ≤μₐ\n",
        "H₁: μₛ>μₐ"
      ]
    },
    {
      "cell_type": "markdown",
      "source": [
        "**H₀: The data is normally distributed.**\n",
        "<BR>**H₁: The data is not normally distributed.**\n",
        "\n",
        "**Assuming that the significance level (α) = 0.05.**\n",
        "\n",
        "**If the p-value is >0.05, it can be said that data is normally distributed.**\n",
        "\n",
        "**For checking normality, We used SKolmogorov-Smirnov test.**"
      ],
      "metadata": {
        "id": "LgQkSqA0qmYc"
      }
    },
    {
      "cell_type": "code",
      "source": [
        "Strictness = Fire_arm[[\"state\" ,\"lawtotal\"]]"
      ],
      "metadata": {
        "id": "WgPv_sp0rX6o"
      },
      "execution_count": null,
      "outputs": []
    },
    {
      "cell_type": "code",
      "source": [
        "Strictness"
      ],
      "metadata": {
        "colab": {
          "base_uri": "https://localhost:8080/"
        },
        "id": "mSfDwVp-r29I",
        "outputId": "1f32e701-9b3f-4a7d-8960-a14edad45a22"
      },
      "execution_count": null,
      "outputs": [
        {
          "output_type": "execute_result",
          "data": {
            "text/plain": [
              "        state  lawtotal\n",
              "0     Alabama        15\n",
              "1     Alabama        16\n",
              "2     Alabama        16\n",
              "3     Alabama        16\n",
              "4     Alabama        16\n",
              "...       ...       ...\n",
              "1495  Wyoming         8\n",
              "1496  Wyoming         8\n",
              "1497  Wyoming         7\n",
              "1498  Wyoming         7\n",
              "1499  Wyoming         7\n",
              "\n",
              "[1500 rows x 2 columns]"
            ],
            "text/html": [
              "\n",
              "  <div id=\"df-292b7a3a-7c30-467b-a2fa-a4afa86964db\">\n",
              "    <div class=\"colab-df-container\">\n",
              "      <div>\n",
              "<style scoped>\n",
              "    .dataframe tbody tr th:only-of-type {\n",
              "        vertical-align: middle;\n",
              "    }\n",
              "\n",
              "    .dataframe tbody tr th {\n",
              "        vertical-align: top;\n",
              "    }\n",
              "\n",
              "    .dataframe thead th {\n",
              "        text-align: right;\n",
              "    }\n",
              "</style>\n",
              "<table border=\"1\" class=\"dataframe\">\n",
              "  <thead>\n",
              "    <tr style=\"text-align: right;\">\n",
              "      <th></th>\n",
              "      <th>state</th>\n",
              "      <th>lawtotal</th>\n",
              "    </tr>\n",
              "  </thead>\n",
              "  <tbody>\n",
              "    <tr>\n",
              "      <th>0</th>\n",
              "      <td>Alabama</td>\n",
              "      <td>15</td>\n",
              "    </tr>\n",
              "    <tr>\n",
              "      <th>1</th>\n",
              "      <td>Alabama</td>\n",
              "      <td>16</td>\n",
              "    </tr>\n",
              "    <tr>\n",
              "      <th>2</th>\n",
              "      <td>Alabama</td>\n",
              "      <td>16</td>\n",
              "    </tr>\n",
              "    <tr>\n",
              "      <th>3</th>\n",
              "      <td>Alabama</td>\n",
              "      <td>16</td>\n",
              "    </tr>\n",
              "    <tr>\n",
              "      <th>4</th>\n",
              "      <td>Alabama</td>\n",
              "      <td>16</td>\n",
              "    </tr>\n",
              "    <tr>\n",
              "      <th>...</th>\n",
              "      <td>...</td>\n",
              "      <td>...</td>\n",
              "    </tr>\n",
              "    <tr>\n",
              "      <th>1495</th>\n",
              "      <td>Wyoming</td>\n",
              "      <td>8</td>\n",
              "    </tr>\n",
              "    <tr>\n",
              "      <th>1496</th>\n",
              "      <td>Wyoming</td>\n",
              "      <td>8</td>\n",
              "    </tr>\n",
              "    <tr>\n",
              "      <th>1497</th>\n",
              "      <td>Wyoming</td>\n",
              "      <td>7</td>\n",
              "    </tr>\n",
              "    <tr>\n",
              "      <th>1498</th>\n",
              "      <td>Wyoming</td>\n",
              "      <td>7</td>\n",
              "    </tr>\n",
              "    <tr>\n",
              "      <th>1499</th>\n",
              "      <td>Wyoming</td>\n",
              "      <td>7</td>\n",
              "    </tr>\n",
              "  </tbody>\n",
              "</table>\n",
              "<p>1500 rows × 2 columns</p>\n",
              "</div>\n",
              "      <button class=\"colab-df-convert\" onclick=\"convertToInteractive('df-292b7a3a-7c30-467b-a2fa-a4afa86964db')\"\n",
              "              title=\"Convert this dataframe to an interactive table.\"\n",
              "              style=\"display:none;\">\n",
              "        \n",
              "  <svg xmlns=\"http://www.w3.org/2000/svg\" height=\"24px\"viewBox=\"0 0 24 24\"\n",
              "       width=\"24px\">\n",
              "    <path d=\"M0 0h24v24H0V0z\" fill=\"none\"/>\n",
              "    <path d=\"M18.56 5.44l.94 2.06.94-2.06 2.06-.94-2.06-.94-.94-2.06-.94 2.06-2.06.94zm-11 1L8.5 8.5l.94-2.06 2.06-.94-2.06-.94L8.5 2.5l-.94 2.06-2.06.94zm10 10l.94 2.06.94-2.06 2.06-.94-2.06-.94-.94-2.06-.94 2.06-2.06.94z\"/><path d=\"M17.41 7.96l-1.37-1.37c-.4-.4-.92-.59-1.43-.59-.52 0-1.04.2-1.43.59L10.3 9.45l-7.72 7.72c-.78.78-.78 2.05 0 2.83L4 21.41c.39.39.9.59 1.41.59.51 0 1.02-.2 1.41-.59l7.78-7.78 2.81-2.81c.8-.78.8-2.07 0-2.86zM5.41 20L4 18.59l7.72-7.72 1.47 1.35L5.41 20z\"/>\n",
              "  </svg>\n",
              "      </button>\n",
              "      \n",
              "  <style>\n",
              "    .colab-df-container {\n",
              "      display:flex;\n",
              "      flex-wrap:wrap;\n",
              "      gap: 12px;\n",
              "    }\n",
              "\n",
              "    .colab-df-convert {\n",
              "      background-color: #E8F0FE;\n",
              "      border: none;\n",
              "      border-radius: 50%;\n",
              "      cursor: pointer;\n",
              "      display: none;\n",
              "      fill: #1967D2;\n",
              "      height: 32px;\n",
              "      padding: 0 0 0 0;\n",
              "      width: 32px;\n",
              "    }\n",
              "\n",
              "    .colab-df-convert:hover {\n",
              "      background-color: #E2EBFA;\n",
              "      box-shadow: 0px 1px 2px rgba(60, 64, 67, 0.3), 0px 1px 3px 1px rgba(60, 64, 67, 0.15);\n",
              "      fill: #174EA6;\n",
              "    }\n",
              "\n",
              "    [theme=dark] .colab-df-convert {\n",
              "      background-color: #3B4455;\n",
              "      fill: #D2E3FC;\n",
              "    }\n",
              "\n",
              "    [theme=dark] .colab-df-convert:hover {\n",
              "      background-color: #434B5C;\n",
              "      box-shadow: 0px 1px 3px 1px rgba(0, 0, 0, 0.15);\n",
              "      filter: drop-shadow(0px 1px 2px rgba(0, 0, 0, 0.3));\n",
              "      fill: #FFFFFF;\n",
              "    }\n",
              "  </style>\n",
              "\n",
              "      <script>\n",
              "        const buttonEl =\n",
              "          document.querySelector('#df-292b7a3a-7c30-467b-a2fa-a4afa86964db button.colab-df-convert');\n",
              "        buttonEl.style.display =\n",
              "          google.colab.kernel.accessAllowed ? 'block' : 'none';\n",
              "\n",
              "        async function convertToInteractive(key) {\n",
              "          const element = document.querySelector('#df-292b7a3a-7c30-467b-a2fa-a4afa86964db');\n",
              "          const dataTable =\n",
              "            await google.colab.kernel.invokeFunction('convertToInteractive',\n",
              "                                                     [key], {});\n",
              "          if (!dataTable) return;\n",
              "\n",
              "          const docLinkHtml = 'Like what you see? Visit the ' +\n",
              "            '<a target=\"_blank\" href=https://colab.research.google.com/notebooks/data_table.ipynb>data table notebook</a>'\n",
              "            + ' to learn more about interactive tables.';\n",
              "          element.innerHTML = '';\n",
              "          dataTable['output_type'] = 'display_data';\n",
              "          await google.colab.output.renderOutput(dataTable, element);\n",
              "          const docLink = document.createElement('div');\n",
              "          docLink.innerHTML = docLinkHtml;\n",
              "          element.appendChild(docLink);\n",
              "        }\n",
              "      </script>\n",
              "    </div>\n",
              "  </div>\n",
              "  "
            ]
          },
          "metadata": {},
          "execution_count": 38
        }
      ]
    },
    {
      "cell_type": "code",
      "source": [
        "FBI['state name'].replace({'HI': 'Hawaii',\n",
        "                      'DE': 'Delaware',\n",
        "                      'PR': 'Puerto Rico',\n",
        "                      'TX': 'Texas',\n",
        "                      'MA': 'Massachusetts',\n",
        "                      'MD': 'Maryland',\n",
        "                      'ME': 'Maine',\n",
        "                      'IA': 'Iowa',\n",
        "                      'ID': 'Idaho',\n",
        "                      'MI': 'Michigan',\n",
        "                      'UT': 'Utah',\n",
        "                      'MN': 'Minnesota',\n",
        "                      'MO': 'Missouri',\n",
        "                      'IL': 'Illinois',\n",
        "                      'IN': 'Indiana',\n",
        "                      'MS': 'Mississippi',\n",
        "                      'MT': 'Montana',\n",
        "                      'AK': 'Alaska',\n",
        "                      'VA': 'Virginia',\n",
        "                      'AL': 'Alabama',\n",
        "                      'AR': 'Arkansas',\n",
        "                      'VI': 'U.S. Virgin Islands',\n",
        "                      'NC': 'North Carolina',\n",
        "                      'ND': 'North Dakota',\n",
        "                      'RI': 'Rhode Island',\n",
        "                      'NE': 'Nebraska',\n",
        "                      'AZ': 'Arizona',\n",
        "                      'NH': 'New Hampshire',\n",
        "                      'NJ': 'New Jersey',\n",
        "                      'VT': 'Vermont',\n",
        "                      'NM': 'New Mexico',\n",
        "                      'FL': 'Florida',\n",
        "                      'NV': 'Nevada',\n",
        "                      'WA': 'Washington',\n",
        "                      'NY': 'New York',\n",
        "                      'SC': 'South Carolina',\n",
        "                      'SD': 'South Dakota',\n",
        "                      'WI': 'Wisconsin',\n",
        "                      'OH': 'Ohio',\n",
        "                      'GA': 'Georgia',\n",
        "                      'OK': 'Oklahoma',\n",
        "                      'CA': 'California',\n",
        "                      'WV': 'West Virginia',\n",
        "                      'WY': 'Wyoming',\n",
        "                      'OR': 'Oregon',\n",
        "                      'GM': 'Guam',\n",
        "                      'KS': 'Kansas',\n",
        "                      'CO': 'Colorado',\n",
        "                      'KY': 'Kentucky',\n",
        "                      'PA': 'Pennsylvania',\n",
        "                      'CT': 'Connecticut',\n",
        "                      'LA': 'Louisiana',\n",
        "                      'TN': 'Tennessee',\n",
        "                      'DC': 'District of Columbia'},inplace = True)"
      ],
      "metadata": {
        "id": "YCDG9RUFsCHF"
      },
      "execution_count": null,
      "outputs": []
    },
    {
      "cell_type": "code",
      "source": [
        "FBI"
      ],
      "metadata": {
        "colab": {
          "base_uri": "https://localhost:8080/"
        },
        "id": "FqnQkjFYsGC1",
        "outputId": "ce989ea8-fcab-4bbd-f2f5-5fb73bc12fdb"
      },
      "execution_count": null,
      "outputs": [
        {
          "output_type": "execute_result",
          "data": {
            "text/plain": [
              "                  state name  year             offense  offense count  \\\n",
              "0                     Hawaii  2018  aggravated-assault           1307   \n",
              "1                     Hawaii  2019  aggravated-assault           1343   \n",
              "2                     Hawaii  2020  aggravated-assault           1307   \n",
              "3                     Hawaii  2021  aggravated-assault           1418   \n",
              "4                     Hawaii  2018   all-other-larceny           8343   \n",
              "...                      ...   ...                 ...            ...   \n",
              "139971  District of Columbia  2019        all-offenses            108   \n",
              "139972  District of Columbia  2020        all-offenses             77   \n",
              "139973  District of Columbia  2021        all-offenses           1497   \n",
              "139974  District of Columbia  2021        all-offenses             47   \n",
              "139975  District of Columbia  2021        all-offenses              1   \n",
              "\n",
              "        Unnamed: 4  \n",
              "0              NaN  \n",
              "1              NaN  \n",
              "2              NaN  \n",
              "3              NaN  \n",
              "4              NaN  \n",
              "...            ...  \n",
              "139971         NaN  \n",
              "139972         NaN  \n",
              "139973         NaN  \n",
              "139974         NaN  \n",
              "139975         NaN  \n",
              "\n",
              "[139976 rows x 5 columns]"
            ],
            "text/html": [
              "\n",
              "  <div id=\"df-1584af46-be34-4dce-8f41-a86fec536ebc\">\n",
              "    <div class=\"colab-df-container\">\n",
              "      <div>\n",
              "<style scoped>\n",
              "    .dataframe tbody tr th:only-of-type {\n",
              "        vertical-align: middle;\n",
              "    }\n",
              "\n",
              "    .dataframe tbody tr th {\n",
              "        vertical-align: top;\n",
              "    }\n",
              "\n",
              "    .dataframe thead th {\n",
              "        text-align: right;\n",
              "    }\n",
              "</style>\n",
              "<table border=\"1\" class=\"dataframe\">\n",
              "  <thead>\n",
              "    <tr style=\"text-align: right;\">\n",
              "      <th></th>\n",
              "      <th>state name</th>\n",
              "      <th>year</th>\n",
              "      <th>offense</th>\n",
              "      <th>offense count</th>\n",
              "      <th>Unnamed: 4</th>\n",
              "    </tr>\n",
              "  </thead>\n",
              "  <tbody>\n",
              "    <tr>\n",
              "      <th>0</th>\n",
              "      <td>Hawaii</td>\n",
              "      <td>2018</td>\n",
              "      <td>aggravated-assault</td>\n",
              "      <td>1307</td>\n",
              "      <td>NaN</td>\n",
              "    </tr>\n",
              "    <tr>\n",
              "      <th>1</th>\n",
              "      <td>Hawaii</td>\n",
              "      <td>2019</td>\n",
              "      <td>aggravated-assault</td>\n",
              "      <td>1343</td>\n",
              "      <td>NaN</td>\n",
              "    </tr>\n",
              "    <tr>\n",
              "      <th>2</th>\n",
              "      <td>Hawaii</td>\n",
              "      <td>2020</td>\n",
              "      <td>aggravated-assault</td>\n",
              "      <td>1307</td>\n",
              "      <td>NaN</td>\n",
              "    </tr>\n",
              "    <tr>\n",
              "      <th>3</th>\n",
              "      <td>Hawaii</td>\n",
              "      <td>2021</td>\n",
              "      <td>aggravated-assault</td>\n",
              "      <td>1418</td>\n",
              "      <td>NaN</td>\n",
              "    </tr>\n",
              "    <tr>\n",
              "      <th>4</th>\n",
              "      <td>Hawaii</td>\n",
              "      <td>2018</td>\n",
              "      <td>all-other-larceny</td>\n",
              "      <td>8343</td>\n",
              "      <td>NaN</td>\n",
              "    </tr>\n",
              "    <tr>\n",
              "      <th>...</th>\n",
              "      <td>...</td>\n",
              "      <td>...</td>\n",
              "      <td>...</td>\n",
              "      <td>...</td>\n",
              "      <td>...</td>\n",
              "    </tr>\n",
              "    <tr>\n",
              "      <th>139971</th>\n",
              "      <td>District of Columbia</td>\n",
              "      <td>2019</td>\n",
              "      <td>all-offenses</td>\n",
              "      <td>108</td>\n",
              "      <td>NaN</td>\n",
              "    </tr>\n",
              "    <tr>\n",
              "      <th>139972</th>\n",
              "      <td>District of Columbia</td>\n",
              "      <td>2020</td>\n",
              "      <td>all-offenses</td>\n",
              "      <td>77</td>\n",
              "      <td>NaN</td>\n",
              "    </tr>\n",
              "    <tr>\n",
              "      <th>139973</th>\n",
              "      <td>District of Columbia</td>\n",
              "      <td>2021</td>\n",
              "      <td>all-offenses</td>\n",
              "      <td>1497</td>\n",
              "      <td>NaN</td>\n",
              "    </tr>\n",
              "    <tr>\n",
              "      <th>139974</th>\n",
              "      <td>District of Columbia</td>\n",
              "      <td>2021</td>\n",
              "      <td>all-offenses</td>\n",
              "      <td>47</td>\n",
              "      <td>NaN</td>\n",
              "    </tr>\n",
              "    <tr>\n",
              "      <th>139975</th>\n",
              "      <td>District of Columbia</td>\n",
              "      <td>2021</td>\n",
              "      <td>all-offenses</td>\n",
              "      <td>1</td>\n",
              "      <td>NaN</td>\n",
              "    </tr>\n",
              "  </tbody>\n",
              "</table>\n",
              "<p>139976 rows × 5 columns</p>\n",
              "</div>\n",
              "      <button class=\"colab-df-convert\" onclick=\"convertToInteractive('df-1584af46-be34-4dce-8f41-a86fec536ebc')\"\n",
              "              title=\"Convert this dataframe to an interactive table.\"\n",
              "              style=\"display:none;\">\n",
              "        \n",
              "  <svg xmlns=\"http://www.w3.org/2000/svg\" height=\"24px\"viewBox=\"0 0 24 24\"\n",
              "       width=\"24px\">\n",
              "    <path d=\"M0 0h24v24H0V0z\" fill=\"none\"/>\n",
              "    <path d=\"M18.56 5.44l.94 2.06.94-2.06 2.06-.94-2.06-.94-.94-2.06-.94 2.06-2.06.94zm-11 1L8.5 8.5l.94-2.06 2.06-.94-2.06-.94L8.5 2.5l-.94 2.06-2.06.94zm10 10l.94 2.06.94-2.06 2.06-.94-2.06-.94-.94-2.06-.94 2.06-2.06.94z\"/><path d=\"M17.41 7.96l-1.37-1.37c-.4-.4-.92-.59-1.43-.59-.52 0-1.04.2-1.43.59L10.3 9.45l-7.72 7.72c-.78.78-.78 2.05 0 2.83L4 21.41c.39.39.9.59 1.41.59.51 0 1.02-.2 1.41-.59l7.78-7.78 2.81-2.81c.8-.78.8-2.07 0-2.86zM5.41 20L4 18.59l7.72-7.72 1.47 1.35L5.41 20z\"/>\n",
              "  </svg>\n",
              "      </button>\n",
              "      \n",
              "  <style>\n",
              "    .colab-df-container {\n",
              "      display:flex;\n",
              "      flex-wrap:wrap;\n",
              "      gap: 12px;\n",
              "    }\n",
              "\n",
              "    .colab-df-convert {\n",
              "      background-color: #E8F0FE;\n",
              "      border: none;\n",
              "      border-radius: 50%;\n",
              "      cursor: pointer;\n",
              "      display: none;\n",
              "      fill: #1967D2;\n",
              "      height: 32px;\n",
              "      padding: 0 0 0 0;\n",
              "      width: 32px;\n",
              "    }\n",
              "\n",
              "    .colab-df-convert:hover {\n",
              "      background-color: #E2EBFA;\n",
              "      box-shadow: 0px 1px 2px rgba(60, 64, 67, 0.3), 0px 1px 3px 1px rgba(60, 64, 67, 0.15);\n",
              "      fill: #174EA6;\n",
              "    }\n",
              "\n",
              "    [theme=dark] .colab-df-convert {\n",
              "      background-color: #3B4455;\n",
              "      fill: #D2E3FC;\n",
              "    }\n",
              "\n",
              "    [theme=dark] .colab-df-convert:hover {\n",
              "      background-color: #434B5C;\n",
              "      box-shadow: 0px 1px 3px 1px rgba(0, 0, 0, 0.15);\n",
              "      filter: drop-shadow(0px 1px 2px rgba(0, 0, 0, 0.3));\n",
              "      fill: #FFFFFF;\n",
              "    }\n",
              "  </style>\n",
              "\n",
              "      <script>\n",
              "        const buttonEl =\n",
              "          document.querySelector('#df-1584af46-be34-4dce-8f41-a86fec536ebc button.colab-df-convert');\n",
              "        buttonEl.style.display =\n",
              "          google.colab.kernel.accessAllowed ? 'block' : 'none';\n",
              "\n",
              "        async function convertToInteractive(key) {\n",
              "          const element = document.querySelector('#df-1584af46-be34-4dce-8f41-a86fec536ebc');\n",
              "          const dataTable =\n",
              "            await google.colab.kernel.invokeFunction('convertToInteractive',\n",
              "                                                     [key], {});\n",
              "          if (!dataTable) return;\n",
              "\n",
              "          const docLinkHtml = 'Like what you see? Visit the ' +\n",
              "            '<a target=\"_blank\" href=https://colab.research.google.com/notebooks/data_table.ipynb>data table notebook</a>'\n",
              "            + ' to learn more about interactive tables.';\n",
              "          element.innerHTML = '';\n",
              "          dataTable['output_type'] = 'display_data';\n",
              "          await google.colab.output.renderOutput(dataTable, element);\n",
              "          const docLink = document.createElement('div');\n",
              "          docLink.innerHTML = docLinkHtml;\n",
              "          element.appendChild(docLink);\n",
              "        }\n",
              "      </script>\n",
              "    </div>\n",
              "  </div>\n",
              "  "
            ]
          },
          "metadata": {},
          "execution_count": 40
        }
      ]
    },
    {
      "cell_type": "code",
      "source": [
        "Strictness_ = Strictness.sort_values(by = 'state')"
      ],
      "metadata": {
        "id": "RNDoPr2Rsinr"
      },
      "execution_count": null,
      "outputs": []
    },
    {
      "cell_type": "code",
      "source": [
        "Strictness_"
      ],
      "metadata": {
        "colab": {
          "base_uri": "https://localhost:8080/"
        },
        "id": "MKntbBXMuPV1",
        "outputId": "3e331851-3ebc-497b-c279-a386d93d597f"
      },
      "execution_count": null,
      "outputs": [
        {
          "output_type": "execute_result",
          "data": {
            "text/plain": [
              "        state  lawtotal\n",
              "0     Alabama        15\n",
              "29    Alabama        10\n",
              "28    Alabama        10\n",
              "27    Alabama        10\n",
              "26    Alabama        10\n",
              "...       ...       ...\n",
              "1471  Wyoming         7\n",
              "1470  Wyoming         7\n",
              "1498  Wyoming         7\n",
              "1483  Wyoming         9\n",
              "1499  Wyoming         7\n",
              "\n",
              "[1500 rows x 2 columns]"
            ],
            "text/html": [
              "\n",
              "  <div id=\"df-38f7c27d-d278-4166-bb01-856c2acbf758\">\n",
              "    <div class=\"colab-df-container\">\n",
              "      <div>\n",
              "<style scoped>\n",
              "    .dataframe tbody tr th:only-of-type {\n",
              "        vertical-align: middle;\n",
              "    }\n",
              "\n",
              "    .dataframe tbody tr th {\n",
              "        vertical-align: top;\n",
              "    }\n",
              "\n",
              "    .dataframe thead th {\n",
              "        text-align: right;\n",
              "    }\n",
              "</style>\n",
              "<table border=\"1\" class=\"dataframe\">\n",
              "  <thead>\n",
              "    <tr style=\"text-align: right;\">\n",
              "      <th></th>\n",
              "      <th>state</th>\n",
              "      <th>lawtotal</th>\n",
              "    </tr>\n",
              "  </thead>\n",
              "  <tbody>\n",
              "    <tr>\n",
              "      <th>0</th>\n",
              "      <td>Alabama</td>\n",
              "      <td>15</td>\n",
              "    </tr>\n",
              "    <tr>\n",
              "      <th>29</th>\n",
              "      <td>Alabama</td>\n",
              "      <td>10</td>\n",
              "    </tr>\n",
              "    <tr>\n",
              "      <th>28</th>\n",
              "      <td>Alabama</td>\n",
              "      <td>10</td>\n",
              "    </tr>\n",
              "    <tr>\n",
              "      <th>27</th>\n",
              "      <td>Alabama</td>\n",
              "      <td>10</td>\n",
              "    </tr>\n",
              "    <tr>\n",
              "      <th>26</th>\n",
              "      <td>Alabama</td>\n",
              "      <td>10</td>\n",
              "    </tr>\n",
              "    <tr>\n",
              "      <th>...</th>\n",
              "      <td>...</td>\n",
              "      <td>...</td>\n",
              "    </tr>\n",
              "    <tr>\n",
              "      <th>1471</th>\n",
              "      <td>Wyoming</td>\n",
              "      <td>7</td>\n",
              "    </tr>\n",
              "    <tr>\n",
              "      <th>1470</th>\n",
              "      <td>Wyoming</td>\n",
              "      <td>7</td>\n",
              "    </tr>\n",
              "    <tr>\n",
              "      <th>1498</th>\n",
              "      <td>Wyoming</td>\n",
              "      <td>7</td>\n",
              "    </tr>\n",
              "    <tr>\n",
              "      <th>1483</th>\n",
              "      <td>Wyoming</td>\n",
              "      <td>9</td>\n",
              "    </tr>\n",
              "    <tr>\n",
              "      <th>1499</th>\n",
              "      <td>Wyoming</td>\n",
              "      <td>7</td>\n",
              "    </tr>\n",
              "  </tbody>\n",
              "</table>\n",
              "<p>1500 rows × 2 columns</p>\n",
              "</div>\n",
              "      <button class=\"colab-df-convert\" onclick=\"convertToInteractive('df-38f7c27d-d278-4166-bb01-856c2acbf758')\"\n",
              "              title=\"Convert this dataframe to an interactive table.\"\n",
              "              style=\"display:none;\">\n",
              "        \n",
              "  <svg xmlns=\"http://www.w3.org/2000/svg\" height=\"24px\"viewBox=\"0 0 24 24\"\n",
              "       width=\"24px\">\n",
              "    <path d=\"M0 0h24v24H0V0z\" fill=\"none\"/>\n",
              "    <path d=\"M18.56 5.44l.94 2.06.94-2.06 2.06-.94-2.06-.94-.94-2.06-.94 2.06-2.06.94zm-11 1L8.5 8.5l.94-2.06 2.06-.94-2.06-.94L8.5 2.5l-.94 2.06-2.06.94zm10 10l.94 2.06.94-2.06 2.06-.94-2.06-.94-.94-2.06-.94 2.06-2.06.94z\"/><path d=\"M17.41 7.96l-1.37-1.37c-.4-.4-.92-.59-1.43-.59-.52 0-1.04.2-1.43.59L10.3 9.45l-7.72 7.72c-.78.78-.78 2.05 0 2.83L4 21.41c.39.39.9.59 1.41.59.51 0 1.02-.2 1.41-.59l7.78-7.78 2.81-2.81c.8-.78.8-2.07 0-2.86zM5.41 20L4 18.59l7.72-7.72 1.47 1.35L5.41 20z\"/>\n",
              "  </svg>\n",
              "      </button>\n",
              "      \n",
              "  <style>\n",
              "    .colab-df-container {\n",
              "      display:flex;\n",
              "      flex-wrap:wrap;\n",
              "      gap: 12px;\n",
              "    }\n",
              "\n",
              "    .colab-df-convert {\n",
              "      background-color: #E8F0FE;\n",
              "      border: none;\n",
              "      border-radius: 50%;\n",
              "      cursor: pointer;\n",
              "      display: none;\n",
              "      fill: #1967D2;\n",
              "      height: 32px;\n",
              "      padding: 0 0 0 0;\n",
              "      width: 32px;\n",
              "    }\n",
              "\n",
              "    .colab-df-convert:hover {\n",
              "      background-color: #E2EBFA;\n",
              "      box-shadow: 0px 1px 2px rgba(60, 64, 67, 0.3), 0px 1px 3px 1px rgba(60, 64, 67, 0.15);\n",
              "      fill: #174EA6;\n",
              "    }\n",
              "\n",
              "    [theme=dark] .colab-df-convert {\n",
              "      background-color: #3B4455;\n",
              "      fill: #D2E3FC;\n",
              "    }\n",
              "\n",
              "    [theme=dark] .colab-df-convert:hover {\n",
              "      background-color: #434B5C;\n",
              "      box-shadow: 0px 1px 3px 1px rgba(0, 0, 0, 0.15);\n",
              "      filter: drop-shadow(0px 1px 2px rgba(0, 0, 0, 0.3));\n",
              "      fill: #FFFFFF;\n",
              "    }\n",
              "  </style>\n",
              "\n",
              "      <script>\n",
              "        const buttonEl =\n",
              "          document.querySelector('#df-38f7c27d-d278-4166-bb01-856c2acbf758 button.colab-df-convert');\n",
              "        buttonEl.style.display =\n",
              "          google.colab.kernel.accessAllowed ? 'block' : 'none';\n",
              "\n",
              "        async function convertToInteractive(key) {\n",
              "          const element = document.querySelector('#df-38f7c27d-d278-4166-bb01-856c2acbf758');\n",
              "          const dataTable =\n",
              "            await google.colab.kernel.invokeFunction('convertToInteractive',\n",
              "                                                     [key], {});\n",
              "          if (!dataTable) return;\n",
              "\n",
              "          const docLinkHtml = 'Like what you see? Visit the ' +\n",
              "            '<a target=\"_blank\" href=https://colab.research.google.com/notebooks/data_table.ipynb>data table notebook</a>'\n",
              "            + ' to learn more about interactive tables.';\n",
              "          element.innerHTML = '';\n",
              "          dataTable['output_type'] = 'display_data';\n",
              "          await google.colab.output.renderOutput(dataTable, element);\n",
              "          const docLink = document.createElement('div');\n",
              "          docLink.innerHTML = docLinkHtml;\n",
              "          element.appendChild(docLink);\n",
              "        }\n",
              "      </script>\n",
              "    </div>\n",
              "  </div>\n",
              "  "
            ]
          },
          "metadata": {},
          "execution_count": 42
        }
      ]
    },
    {
      "cell_type": "code",
      "source": [
        "FBI_Crimes = FBI[['state name','offense count']]"
      ],
      "metadata": {
        "id": "F-6sJhJ-ve3b"
      },
      "execution_count": null,
      "outputs": []
    },
    {
      "cell_type": "code",
      "source": [
        "FBI_Crimes"
      ],
      "metadata": {
        "colab": {
          "base_uri": "https://localhost:8080/"
        },
        "id": "EGSlGmCkv3IM",
        "outputId": "0c81c0e2-2e02-4582-db53-c474352c30e9"
      },
      "execution_count": null,
      "outputs": [
        {
          "output_type": "execute_result",
          "data": {
            "text/plain": [
              "                  state name  offense count\n",
              "0                     Hawaii           1307\n",
              "1                     Hawaii           1343\n",
              "2                     Hawaii           1307\n",
              "3                     Hawaii           1418\n",
              "4                     Hawaii           8343\n",
              "...                      ...            ...\n",
              "139971  District of Columbia            108\n",
              "139972  District of Columbia             77\n",
              "139973  District of Columbia           1497\n",
              "139974  District of Columbia             47\n",
              "139975  District of Columbia              1\n",
              "\n",
              "[139976 rows x 2 columns]"
            ],
            "text/html": [
              "\n",
              "  <div id=\"df-99f94507-28d3-41e6-8e23-bbee094cfaab\">\n",
              "    <div class=\"colab-df-container\">\n",
              "      <div>\n",
              "<style scoped>\n",
              "    .dataframe tbody tr th:only-of-type {\n",
              "        vertical-align: middle;\n",
              "    }\n",
              "\n",
              "    .dataframe tbody tr th {\n",
              "        vertical-align: top;\n",
              "    }\n",
              "\n",
              "    .dataframe thead th {\n",
              "        text-align: right;\n",
              "    }\n",
              "</style>\n",
              "<table border=\"1\" class=\"dataframe\">\n",
              "  <thead>\n",
              "    <tr style=\"text-align: right;\">\n",
              "      <th></th>\n",
              "      <th>state name</th>\n",
              "      <th>offense count</th>\n",
              "    </tr>\n",
              "  </thead>\n",
              "  <tbody>\n",
              "    <tr>\n",
              "      <th>0</th>\n",
              "      <td>Hawaii</td>\n",
              "      <td>1307</td>\n",
              "    </tr>\n",
              "    <tr>\n",
              "      <th>1</th>\n",
              "      <td>Hawaii</td>\n",
              "      <td>1343</td>\n",
              "    </tr>\n",
              "    <tr>\n",
              "      <th>2</th>\n",
              "      <td>Hawaii</td>\n",
              "      <td>1307</td>\n",
              "    </tr>\n",
              "    <tr>\n",
              "      <th>3</th>\n",
              "      <td>Hawaii</td>\n",
              "      <td>1418</td>\n",
              "    </tr>\n",
              "    <tr>\n",
              "      <th>4</th>\n",
              "      <td>Hawaii</td>\n",
              "      <td>8343</td>\n",
              "    </tr>\n",
              "    <tr>\n",
              "      <th>...</th>\n",
              "      <td>...</td>\n",
              "      <td>...</td>\n",
              "    </tr>\n",
              "    <tr>\n",
              "      <th>139971</th>\n",
              "      <td>District of Columbia</td>\n",
              "      <td>108</td>\n",
              "    </tr>\n",
              "    <tr>\n",
              "      <th>139972</th>\n",
              "      <td>District of Columbia</td>\n",
              "      <td>77</td>\n",
              "    </tr>\n",
              "    <tr>\n",
              "      <th>139973</th>\n",
              "      <td>District of Columbia</td>\n",
              "      <td>1497</td>\n",
              "    </tr>\n",
              "    <tr>\n",
              "      <th>139974</th>\n",
              "      <td>District of Columbia</td>\n",
              "      <td>47</td>\n",
              "    </tr>\n",
              "    <tr>\n",
              "      <th>139975</th>\n",
              "      <td>District of Columbia</td>\n",
              "      <td>1</td>\n",
              "    </tr>\n",
              "  </tbody>\n",
              "</table>\n",
              "<p>139976 rows × 2 columns</p>\n",
              "</div>\n",
              "      <button class=\"colab-df-convert\" onclick=\"convertToInteractive('df-99f94507-28d3-41e6-8e23-bbee094cfaab')\"\n",
              "              title=\"Convert this dataframe to an interactive table.\"\n",
              "              style=\"display:none;\">\n",
              "        \n",
              "  <svg xmlns=\"http://www.w3.org/2000/svg\" height=\"24px\"viewBox=\"0 0 24 24\"\n",
              "       width=\"24px\">\n",
              "    <path d=\"M0 0h24v24H0V0z\" fill=\"none\"/>\n",
              "    <path d=\"M18.56 5.44l.94 2.06.94-2.06 2.06-.94-2.06-.94-.94-2.06-.94 2.06-2.06.94zm-11 1L8.5 8.5l.94-2.06 2.06-.94-2.06-.94L8.5 2.5l-.94 2.06-2.06.94zm10 10l.94 2.06.94-2.06 2.06-.94-2.06-.94-.94-2.06-.94 2.06-2.06.94z\"/><path d=\"M17.41 7.96l-1.37-1.37c-.4-.4-.92-.59-1.43-.59-.52 0-1.04.2-1.43.59L10.3 9.45l-7.72 7.72c-.78.78-.78 2.05 0 2.83L4 21.41c.39.39.9.59 1.41.59.51 0 1.02-.2 1.41-.59l7.78-7.78 2.81-2.81c.8-.78.8-2.07 0-2.86zM5.41 20L4 18.59l7.72-7.72 1.47 1.35L5.41 20z\"/>\n",
              "  </svg>\n",
              "      </button>\n",
              "      \n",
              "  <style>\n",
              "    .colab-df-container {\n",
              "      display:flex;\n",
              "      flex-wrap:wrap;\n",
              "      gap: 12px;\n",
              "    }\n",
              "\n",
              "    .colab-df-convert {\n",
              "      background-color: #E8F0FE;\n",
              "      border: none;\n",
              "      border-radius: 50%;\n",
              "      cursor: pointer;\n",
              "      display: none;\n",
              "      fill: #1967D2;\n",
              "      height: 32px;\n",
              "      padding: 0 0 0 0;\n",
              "      width: 32px;\n",
              "    }\n",
              "\n",
              "    .colab-df-convert:hover {\n",
              "      background-color: #E2EBFA;\n",
              "      box-shadow: 0px 1px 2px rgba(60, 64, 67, 0.3), 0px 1px 3px 1px rgba(60, 64, 67, 0.15);\n",
              "      fill: #174EA6;\n",
              "    }\n",
              "\n",
              "    [theme=dark] .colab-df-convert {\n",
              "      background-color: #3B4455;\n",
              "      fill: #D2E3FC;\n",
              "    }\n",
              "\n",
              "    [theme=dark] .colab-df-convert:hover {\n",
              "      background-color: #434B5C;\n",
              "      box-shadow: 0px 1px 3px 1px rgba(0, 0, 0, 0.15);\n",
              "      filter: drop-shadow(0px 1px 2px rgba(0, 0, 0, 0.3));\n",
              "      fill: #FFFFFF;\n",
              "    }\n",
              "  </style>\n",
              "\n",
              "      <script>\n",
              "        const buttonEl =\n",
              "          document.querySelector('#df-99f94507-28d3-41e6-8e23-bbee094cfaab button.colab-df-convert');\n",
              "        buttonEl.style.display =\n",
              "          google.colab.kernel.accessAllowed ? 'block' : 'none';\n",
              "\n",
              "        async function convertToInteractive(key) {\n",
              "          const element = document.querySelector('#df-99f94507-28d3-41e6-8e23-bbee094cfaab');\n",
              "          const dataTable =\n",
              "            await google.colab.kernel.invokeFunction('convertToInteractive',\n",
              "                                                     [key], {});\n",
              "          if (!dataTable) return;\n",
              "\n",
              "          const docLinkHtml = 'Like what you see? Visit the ' +\n",
              "            '<a target=\"_blank\" href=https://colab.research.google.com/notebooks/data_table.ipynb>data table notebook</a>'\n",
              "            + ' to learn more about interactive tables.';\n",
              "          element.innerHTML = '';\n",
              "          dataTable['output_type'] = 'display_data';\n",
              "          await google.colab.output.renderOutput(dataTable, element);\n",
              "          const docLink = document.createElement('div');\n",
              "          docLink.innerHTML = docLinkHtml;\n",
              "          element.appendChild(docLink);\n",
              "        }\n",
              "      </script>\n",
              "    </div>\n",
              "  </div>\n",
              "  "
            ]
          },
          "metadata": {},
          "execution_count": 44
        }
      ]
    },
    {
      "cell_type": "code",
      "source": [
        "FBI_Crimes_ = FBI_Crimes.sort_values(by = 'state name')"
      ],
      "metadata": {
        "id": "PfpQ1QZJv6iO"
      },
      "execution_count": null,
      "outputs": []
    },
    {
      "cell_type": "code",
      "source": [
        "FBI_Crimes_"
      ],
      "metadata": {
        "colab": {
          "base_uri": "https://localhost:8080/"
        },
        "id": "fvrUUPjMwEaY",
        "outputId": "d672f43b-d978-4a5a-d458-5a6b75f115ac"
      },
      "execution_count": null,
      "outputs": [
        {
          "output_type": "execute_result",
          "data": {
            "text/plain": [
              "       state name  offense count\n",
              "55568     Alabama             19\n",
              "55218     Alabama            160\n",
              "55217     Alabama            286\n",
              "55216     Alabama              6\n",
              "55215     Alabama              1\n",
              "...           ...            ...\n",
              "110146    Wyoming             18\n",
              "110145    Wyoming              5\n",
              "110144    Wyoming              7\n",
              "110155    Wyoming            291\n",
              "110036    Wyoming              5\n",
              "\n",
              "[139976 rows x 2 columns]"
            ],
            "text/html": [
              "\n",
              "  <div id=\"df-c0f9adfa-b620-4c9d-b3c2-d229c74bcaf5\">\n",
              "    <div class=\"colab-df-container\">\n",
              "      <div>\n",
              "<style scoped>\n",
              "    .dataframe tbody tr th:only-of-type {\n",
              "        vertical-align: middle;\n",
              "    }\n",
              "\n",
              "    .dataframe tbody tr th {\n",
              "        vertical-align: top;\n",
              "    }\n",
              "\n",
              "    .dataframe thead th {\n",
              "        text-align: right;\n",
              "    }\n",
              "</style>\n",
              "<table border=\"1\" class=\"dataframe\">\n",
              "  <thead>\n",
              "    <tr style=\"text-align: right;\">\n",
              "      <th></th>\n",
              "      <th>state name</th>\n",
              "      <th>offense count</th>\n",
              "    </tr>\n",
              "  </thead>\n",
              "  <tbody>\n",
              "    <tr>\n",
              "      <th>55568</th>\n",
              "      <td>Alabama</td>\n",
              "      <td>19</td>\n",
              "    </tr>\n",
              "    <tr>\n",
              "      <th>55218</th>\n",
              "      <td>Alabama</td>\n",
              "      <td>160</td>\n",
              "    </tr>\n",
              "    <tr>\n",
              "      <th>55217</th>\n",
              "      <td>Alabama</td>\n",
              "      <td>286</td>\n",
              "    </tr>\n",
              "    <tr>\n",
              "      <th>55216</th>\n",
              "      <td>Alabama</td>\n",
              "      <td>6</td>\n",
              "    </tr>\n",
              "    <tr>\n",
              "      <th>55215</th>\n",
              "      <td>Alabama</td>\n",
              "      <td>1</td>\n",
              "    </tr>\n",
              "    <tr>\n",
              "      <th>...</th>\n",
              "      <td>...</td>\n",
              "      <td>...</td>\n",
              "    </tr>\n",
              "    <tr>\n",
              "      <th>110146</th>\n",
              "      <td>Wyoming</td>\n",
              "      <td>18</td>\n",
              "    </tr>\n",
              "    <tr>\n",
              "      <th>110145</th>\n",
              "      <td>Wyoming</td>\n",
              "      <td>5</td>\n",
              "    </tr>\n",
              "    <tr>\n",
              "      <th>110144</th>\n",
              "      <td>Wyoming</td>\n",
              "      <td>7</td>\n",
              "    </tr>\n",
              "    <tr>\n",
              "      <th>110155</th>\n",
              "      <td>Wyoming</td>\n",
              "      <td>291</td>\n",
              "    </tr>\n",
              "    <tr>\n",
              "      <th>110036</th>\n",
              "      <td>Wyoming</td>\n",
              "      <td>5</td>\n",
              "    </tr>\n",
              "  </tbody>\n",
              "</table>\n",
              "<p>139976 rows × 2 columns</p>\n",
              "</div>\n",
              "      <button class=\"colab-df-convert\" onclick=\"convertToInteractive('df-c0f9adfa-b620-4c9d-b3c2-d229c74bcaf5')\"\n",
              "              title=\"Convert this dataframe to an interactive table.\"\n",
              "              style=\"display:none;\">\n",
              "        \n",
              "  <svg xmlns=\"http://www.w3.org/2000/svg\" height=\"24px\"viewBox=\"0 0 24 24\"\n",
              "       width=\"24px\">\n",
              "    <path d=\"M0 0h24v24H0V0z\" fill=\"none\"/>\n",
              "    <path d=\"M18.56 5.44l.94 2.06.94-2.06 2.06-.94-2.06-.94-.94-2.06-.94 2.06-2.06.94zm-11 1L8.5 8.5l.94-2.06 2.06-.94-2.06-.94L8.5 2.5l-.94 2.06-2.06.94zm10 10l.94 2.06.94-2.06 2.06-.94-2.06-.94-.94-2.06-.94 2.06-2.06.94z\"/><path d=\"M17.41 7.96l-1.37-1.37c-.4-.4-.92-.59-1.43-.59-.52 0-1.04.2-1.43.59L10.3 9.45l-7.72 7.72c-.78.78-.78 2.05 0 2.83L4 21.41c.39.39.9.59 1.41.59.51 0 1.02-.2 1.41-.59l7.78-7.78 2.81-2.81c.8-.78.8-2.07 0-2.86zM5.41 20L4 18.59l7.72-7.72 1.47 1.35L5.41 20z\"/>\n",
              "  </svg>\n",
              "      </button>\n",
              "      \n",
              "  <style>\n",
              "    .colab-df-container {\n",
              "      display:flex;\n",
              "      flex-wrap:wrap;\n",
              "      gap: 12px;\n",
              "    }\n",
              "\n",
              "    .colab-df-convert {\n",
              "      background-color: #E8F0FE;\n",
              "      border: none;\n",
              "      border-radius: 50%;\n",
              "      cursor: pointer;\n",
              "      display: none;\n",
              "      fill: #1967D2;\n",
              "      height: 32px;\n",
              "      padding: 0 0 0 0;\n",
              "      width: 32px;\n",
              "    }\n",
              "\n",
              "    .colab-df-convert:hover {\n",
              "      background-color: #E2EBFA;\n",
              "      box-shadow: 0px 1px 2px rgba(60, 64, 67, 0.3), 0px 1px 3px 1px rgba(60, 64, 67, 0.15);\n",
              "      fill: #174EA6;\n",
              "    }\n",
              "\n",
              "    [theme=dark] .colab-df-convert {\n",
              "      background-color: #3B4455;\n",
              "      fill: #D2E3FC;\n",
              "    }\n",
              "\n",
              "    [theme=dark] .colab-df-convert:hover {\n",
              "      background-color: #434B5C;\n",
              "      box-shadow: 0px 1px 3px 1px rgba(0, 0, 0, 0.15);\n",
              "      filter: drop-shadow(0px 1px 2px rgba(0, 0, 0, 0.3));\n",
              "      fill: #FFFFFF;\n",
              "    }\n",
              "  </style>\n",
              "\n",
              "      <script>\n",
              "        const buttonEl =\n",
              "          document.querySelector('#df-c0f9adfa-b620-4c9d-b3c2-d229c74bcaf5 button.colab-df-convert');\n",
              "        buttonEl.style.display =\n",
              "          google.colab.kernel.accessAllowed ? 'block' : 'none';\n",
              "\n",
              "        async function convertToInteractive(key) {\n",
              "          const element = document.querySelector('#df-c0f9adfa-b620-4c9d-b3c2-d229c74bcaf5');\n",
              "          const dataTable =\n",
              "            await google.colab.kernel.invokeFunction('convertToInteractive',\n",
              "                                                     [key], {});\n",
              "          if (!dataTable) return;\n",
              "\n",
              "          const docLinkHtml = 'Like what you see? Visit the ' +\n",
              "            '<a target=\"_blank\" href=https://colab.research.google.com/notebooks/data_table.ipynb>data table notebook</a>'\n",
              "            + ' to learn more about interactive tables.';\n",
              "          element.innerHTML = '';\n",
              "          dataTable['output_type'] = 'display_data';\n",
              "          await google.colab.output.renderOutput(dataTable, element);\n",
              "          const docLink = document.createElement('div');\n",
              "          docLink.innerHTML = docLinkHtml;\n",
              "          element.appendChild(docLink);\n",
              "        }\n",
              "      </script>\n",
              "    </div>\n",
              "  </div>\n",
              "  "
            ]
          },
          "metadata": {},
          "execution_count": 46
        }
      ]
    },
    {
      "cell_type": "code",
      "source": [
        "from scipy.stats import kstest\n",
        "\n",
        "Significance_Level = 0.05\n",
        "\n",
        "test_stat_normality, Strictness_p_value_normality = (kstest(Strictness_['lawtotal'], cdf='norm'))\n",
        "\n",
        "print(\"p value:%.4f\" % Strictness_p_value_normality)\n",
        "\n",
        "if Strictness_p_value_normality < Significance_Level:\n",
        "    print(\"Reject null hypothesis >> The data of Strictness is not normally distributed\")\n",
        "else:\n",
        "    print(\"Not Reject null hypothesis >> The data of Strictness is normally distributed\")\n"
      ],
      "metadata": {
        "colab": {
          "base_uri": "https://localhost:8080/"
        },
        "id": "e2uJNVBFqaFw",
        "outputId": "449d0211-73a0-4c52-9f0a-9ad1724b8d4f"
      },
      "execution_count": null,
      "outputs": [
        {
          "output_type": "stream",
          "name": "stdout",
          "text": [
            "p value:0.0000\n",
            "Reject null hypothesis >> The data of Strictness is not normally distributed\n"
          ]
        }
      ]
    },
    {
      "cell_type": "code",
      "source": [
        "test_stat_normality, CrimeRate_p_value_normality = (kstest(FBI_Crimes_['offense count'], cdf='norm'))\n",
        "\n",
        "print(\"p value:%.4f\" % CrimeRate_p_value_normality)\n",
        "\n",
        "if CrimeRate_p_value_normality < Significance_Level:\n",
        "    print(\"Reject null hypothesis >> The data of  Crime Rate is not normally distributed\")\n",
        "else:\n",
        "    print(\"Not Reject null hypothesis >> The data of  Crime Rate is normally distributed\")\n"
      ],
      "metadata": {
        "colab": {
          "base_uri": "https://localhost:8080/"
        },
        "id": "UMnMdZtJrOLM",
        "outputId": "103b83c5-20c2-4d88-9f5d-2cdd40529bbb"
      },
      "execution_count": null,
      "outputs": [
        {
          "output_type": "stream",
          "name": "stdout",
          "text": [
            "p value:0.0000\n",
            "Reject null hypothesis >> The data of  Crime Rate is not normally distributed\n"
          ]
        }
      ]
    },
    {
      "cell_type": "markdown",
      "source": [
        "**The second assumption is:**\n",
        "\n",
        "**H₀: The variances of the samples are the same.**\n",
        "\n",
        "**H₁: The variances of the samples are different.**"
      ],
      "metadata": {
        "id": "hYLuc8dtwofM"
      }
    },
    {
      "cell_type": "code",
      "source": [
        "import scipy\n",
        "Strict = np.array(Strictness_['lawtotal'])\n",
        "Crime =  np.array(FBI_Crimes_['offense count'])\n",
        "test_stat_var, p_value_var= scipy.stats.levene(Strict,Crime)\n",
        "print(\"p value:%.4f\" % p_value_var)\n",
        "if p_value_var < Significance_Level:\n",
        "    print(\"Reject null hypothesis >> The variances of the samples are different.\")\n",
        "else:\n",
        "    print(\"Not Reject null hypothesis >> The variances of the samples are same.\")"
      ],
      "metadata": {
        "colab": {
          "base_uri": "https://localhost:8080/"
        },
        "id": "h0xLRK8kwjzq",
        "outputId": "eec6e8c4-d8f9-4892-8aa2-772ae27bd709"
      },
      "execution_count": null,
      "outputs": [
        {
          "output_type": "stream",
          "name": "stdout",
          "text": [
            "p value:0.0000\n",
            "Reject null hypothesis >> The variances of the samples are different.\n"
          ]
        }
      ]
    },
    {
      "cell_type": "markdown",
      "source": [
        "**Performing the parametric version of the test for 2 groups and unpaired data:**\n",
        "\n"
      ],
      "metadata": {
        "id": "wIvaJQAextUh"
      }
    },
    {
      "cell_type": "code",
      "source": [
        "ttest,p_value = scipy.stats.ttest_ind(Strict,Crime)\n",
        "print(\"p value:%.8f\" % p_value)\n",
        "print(\"since the hypothesis is one sided >> use p_value/2 >> p_value_one_sided:%.4f\" %(p_value/2))\n",
        "if p_value/2 < Significance_Level:\n",
        "    print(\"Reject null hypothesis\")\n",
        "else:\n",
        "    print(\"Not Reject null hypothesis\")"
      ],
      "metadata": {
        "colab": {
          "base_uri": "https://localhost:8080/"
        },
        "id": "xGK-tjzcxzjx",
        "outputId": "733cbcd9-17ee-4b10-a4a3-06b47dd64fdd"
      },
      "execution_count": null,
      "outputs": [
        {
          "output_type": "stream",
          "name": "stdout",
          "text": [
            "p value:0.00000000\n",
            "since the hypothesis is one sided >> use p_value/2 >> p_value_one_sided:0.0000\n",
            "Reject null hypothesis\n"
          ]
        }
      ]
    },
    {
      "cell_type": "markdown",
      "source": [
        "## **4.2 Come up with your own claim and formulate a hypothesis test to assess it following in the same steps:**"
      ],
      "metadata": {
        "id": "5P3qL6ifyb_B"
      }
    },
    {
      "cell_type": "markdown",
      "source": [
        "**Our Own Claim is that:**\n",
        "\n",
        "\n",
        "*   **Female victims are most probably attacked by female offenders too!!**\n",
        "\n"
      ],
      "metadata": {
        "id": "_Stbx93WymJ8"
      }
    },
    {
      "cell_type": "code",
      "source": [
        "Victims = Personal_Victimization[[\"sex\"]]\n",
        "Offenders = Personal_Victimization[[\"offendersex\"]]"
      ],
      "metadata": {
        "id": "WB6ApqK3yiu_"
      },
      "execution_count": null,
      "outputs": []
    },
    {
      "cell_type": "code",
      "source": [
        "test_stat_normality, Vict_p_value_normality = (kstest(Victims, cdf='norm'))\n",
        "\n",
        "print(\"p value:%.4f\" % Vict_p_value_normality)\n",
        "\n",
        "if Vict_p_value_normality < Significance_Level:\n",
        "    print(\"Reject null hypothesis >> The data of Victims is not normally distributed\")\n",
        "else:\n",
        "    print(\"Not Reject null hypothesis >> The data of Victims is normally distributed\")\n"
      ],
      "metadata": {
        "id": "1-1Z1VVuzfK2"
      },
      "execution_count": null,
      "outputs": []
    },
    {
      "cell_type": "code",
      "source": [
        "test_stat_normality, Off_p_value_normality = (kstest(Offenders, cdf='norm'))\n",
        "\n",
        "print(\"p value:%.4f\" % Off_p_value_normality)\n",
        "\n",
        "if Off_p_value_normality < Significance_Level:\n",
        "    print(\"Reject null hypothesis >> The data of Offenders is not normally distributed\")\n",
        "else:\n",
        "    print(\"Not Reject null hypothesis >> The data of Offenders is normally distributed\")\n"
      ],
      "metadata": {
        "id": "-GJcl4bOzxW5"
      },
      "execution_count": null,
      "outputs": []
    },
    {
      "cell_type": "code",
      "source": [
        "test_stat_var, p_value_var_= scipy.stats.levene(Victims,Offenders)\n",
        "print(\"p value:%.4f\" % p_value_var_)\n",
        "if p_value_var_ < Significance_Level:\n",
        "    print(\"Reject null hypothesis >> The variances of the samples are different.\")\n",
        "else:\n",
        "    print(\"Not Reject null hypothesis >> The variances of the samples are same.\")"
      ],
      "metadata": {
        "id": "ZlyTZjWt0Tkd"
      },
      "execution_count": null,
      "outputs": []
    },
    {
      "cell_type": "code",
      "source": [
        "ttest,p_value_ = scipy.stats.ttest_ind(Victims,Offenders)\n",
        "print(\"p value:%.8f\" % p_value_)\n",
        "print(\"since the hypothesis is one sided >> use p_value_/2 >> p_value__one_sided:%.4f\" %(p_value_/2))\n",
        "if p_value_/2 < Significance_Level:\n",
        "    print(\"Reject null hypothesis\")\n",
        "else:\n",
        "    print(\"Not Reject null hypothesis\")"
      ],
      "metadata": {
        "id": "y7iU7b0e0e5N"
      },
      "execution_count": null,
      "outputs": []
    },
    {
      "cell_type": "markdown",
      "metadata": {
        "id": "SS9l3aq6HvoD"
      },
      "source": [
        "# **Part 5**"
      ]
    },
    {
      "cell_type": "code",
      "execution_count": null,
      "metadata": {
        "id": "_Mzz9lZ9HvK2",
        "colab": {
          "base_uri": "https://localhost:8080/",
          "height": 1000
        },
        "outputId": "a03f5f6b-362b-4578-b415-9a1b7111b1ae"
      },
      "outputs": [
        {
          "output_type": "stream",
          "name": "stdout",
          "text": [
            "                             prior_conviction_episodes_2  \\\n",
            "prior_conviction_episodes_2                     1.000000   \n",
            "prior_conviction_episodes_5                     0.089750   \n",
            "prior_conviction_episodes_6                     0.367193   \n",
            "prior_conviction_episodes_7                     0.113235   \n",
            "race                                            0.111781   \n",
            "gang_affiliated                                 0.064032   \n",
            "age_at_release                                  0.097479   \n",
            "\n",
            "                             prior_conviction_episodes_5  \\\n",
            "prior_conviction_episodes_2                     0.089750   \n",
            "prior_conviction_episodes_5                     1.000000   \n",
            "prior_conviction_episodes_6                     0.086955   \n",
            "prior_conviction_episodes_7                     0.036715   \n",
            "race                                           -0.044273   \n",
            "gang_affiliated                                -0.040783   \n",
            "age_at_release                                  0.218494   \n",
            "\n",
            "                             prior_conviction_episodes_6  \\\n",
            "prior_conviction_episodes_2                     0.367193   \n",
            "prior_conviction_episodes_5                     0.086955   \n",
            "prior_conviction_episodes_6                     1.000000   \n",
            "prior_conviction_episodes_7                     0.026564   \n",
            "race                                           -0.005436   \n",
            "gang_affiliated                                 0.014366   \n",
            "age_at_release                                  0.027016   \n",
            "\n",
            "                             prior_conviction_episodes_7      race  \\\n",
            "prior_conviction_episodes_2                     0.113235  0.111781   \n",
            "prior_conviction_episodes_5                     0.036715 -0.044273   \n",
            "prior_conviction_episodes_6                     0.026564 -0.005436   \n",
            "prior_conviction_episodes_7                     1.000000  0.071874   \n",
            "race                                            0.071874  1.000000   \n",
            "gang_affiliated                                 0.054849  0.106490   \n",
            "age_at_release                                 -0.003800 -0.120054   \n",
            "\n",
            "                             gang_affiliated  age_at_release  \n",
            "prior_conviction_episodes_2         0.064032        0.097479  \n",
            "prior_conviction_episodes_5        -0.040783        0.218494  \n",
            "prior_conviction_episodes_6         0.014366        0.027016  \n",
            "prior_conviction_episodes_7         0.054849       -0.003800  \n",
            "race                                0.106490       -0.120054  \n",
            "gang_affiliated                     1.000000       -0.292732  \n",
            "age_at_release                     -0.292732        1.000000  \n",
            "Empty DataFrame\n",
            "Columns: []\n",
            "Index: []\n",
            "[-0.01346759 -0.13169865  0.40342512 -0.05310924 -0.10851046  0.08407838\n",
            " -0.27843094  0.04982369  0.17155985  0.29933959  0.0256273 ]\n"
          ]
        },
        {
          "output_type": "error",
          "ename": "NameError",
          "evalue": "ignored",
          "traceback": [
            "\u001b[0;31m---------------------------------------------------------------------------\u001b[0m",
            "\u001b[0;31mNameError\u001b[0m                                 Traceback (most recent call last)",
            "\u001b[0;32m<ipython-input-82-ae77c9d47ffe>\u001b[0m in \u001b[0;36m<module>\u001b[0;34m\u001b[0m\n\u001b[1;32m     12\u001b[0m \u001b[0;31m#x.shape, y.shape\u001b[0m\u001b[0;34m\u001b[0m\u001b[0;34m\u001b[0m\u001b[0;34m\u001b[0m\u001b[0m\n\u001b[1;32m     13\u001b[0m \u001b[0mprint\u001b[0m\u001b[0;34m(\u001b[0m\u001b[0mlinear_reg\u001b[0m\u001b[0;34m.\u001b[0m\u001b[0mcoef_\u001b[0m\u001b[0;34m)\u001b[0m \u001b[0;31m##coefficients\u001b[0m\u001b[0;34m\u001b[0m\u001b[0;34m\u001b[0m\u001b[0m\n\u001b[0;32m---> 14\u001b[0;31m \u001b[0mprint\u001b[0m\u001b[0;34m(\u001b[0m\u001b[0;34m\"Accuracy is:\"\u001b[0m\u001b[0;34m,\u001b[0m\u001b[0;36m100\u001b[0m\u001b[0;34m-\u001b[0m\u001b[0mmean_squared_error\u001b[0m\u001b[0;34m(\u001b[0m\u001b[0my_test\u001b[0m\u001b[0;34m,\u001b[0m \u001b[0mlinear_reg\u001b[0m\u001b[0;34m.\u001b[0m\u001b[0mpredict\u001b[0m\u001b[0;34m(\u001b[0m\u001b[0mx_test\u001b[0m\u001b[0;34m)\u001b[0m\u001b[0;34m)\u001b[0m\u001b[0;34m)\u001b[0m\u001b[0;34m\u001b[0m\u001b[0;34m\u001b[0m\u001b[0m\n\u001b[0m\u001b[1;32m     15\u001b[0m \u001b[0mlm\u001b[0m \u001b[0;34m=\u001b[0m \u001b[0msm\u001b[0m\u001b[0;34m.\u001b[0m\u001b[0mOLS\u001b[0m\u001b[0;34m(\u001b[0m\u001b[0my\u001b[0m\u001b[0;34m,\u001b[0m \u001b[0mx\u001b[0m\u001b[0;34m.\u001b[0m\u001b[0mastype\u001b[0m\u001b[0;34m(\u001b[0m\u001b[0mfloat\u001b[0m\u001b[0;34m)\u001b[0m \u001b[0;34m)\u001b[0m\u001b[0;34m\u001b[0m\u001b[0;34m\u001b[0m\u001b[0m\n\u001b[1;32m     16\u001b[0m \u001b[0mresults\u001b[0m \u001b[0;34m=\u001b[0m \u001b[0mlm\u001b[0m\u001b[0;34m.\u001b[0m\u001b[0mfit\u001b[0m\u001b[0;34m(\u001b[0m\u001b[0;34m)\u001b[0m\u001b[0;34m\u001b[0m\u001b[0;34m\u001b[0m\u001b[0m\n",
            "\u001b[0;31mNameError\u001b[0m: name 'mean_squared_error' is not defined"
          ]
        }
      ],
      "source": [
        "print(Georgea_data[['prison_years','prior_conviction_episodes', 'prior_conviction_episodes_1', 'prior_conviction_episodes_2', 'prior_conviction_episodes_3','prior_conviction_episodes_4','prior_conviction_episodes_5','prior_conviction_episodes_6','prior_conviction_episodes_7','race','gang_affiliated','age_at_release']].corr())\n",
        "print(Georgea_data[['prison_years']].corr())\n",
        "\n",
        "# Select the features and target\n",
        "x =  Georgea_data[['prior_conviction_episodes', 'prior_conviction_episodes_1', 'prior_conviction_episodes_2', 'prior_conviction_episodes_3','prior_conviction_episodes_4','prior_conviction_episodes_5','prior_conviction_episodes_6','prior_conviction_episodes_7','race','gang_affiliated','age_at_release']]\n",
        "#y = Georgea_data['prison_offense']\n",
        "Georgea_data['prison_years'] = Georgea_data['prison_years'].replace({\"Less than 1 year\":1,\"1-2 years\":2,\"Greater than 2 to 3 years\":3,\"More than 3 years\":4})\n",
        "y = Georgea_data['prison_years']\n",
        "x_train, x_test, y_train, y_test = train_test_split(x, y, test_size=0.3, random_state=42)\n",
        "linear_reg = LinearRegression()\n",
        "linear_reg.fit(x_train, y_train)\n",
        "#x.shape, y.shape\n",
        "print(linear_reg.coef_) ##coefficients\n",
        "print(\"Accuracy is:\",100-mean_squared_error(y_test, linear_reg.predict(x_test)))\n",
        "lm = sm.OLS(y, x.astype(float) )\n",
        "results = lm.fit()\n",
        "print(results.summary())\n",
        "print(Georgea_data[['prison_years','prior_conviction_episodes', 'prior_conviction_episodes_1', 'prior_conviction_episodes_2', 'prior_conviction_episodes_3','prior_conviction_episodes_4','prior_conviction_episodes_5','prior_conviction_episodes_6','prior_conviction_episodes_7','race','gang_affiliated','age_at_release']].corr())\n"
      ]
    }
  ],
  "metadata": {
    "colab": {
      "collapsed_sections": [
        "NM9HgvLwuF2s",
        "tcMB1avq-Bv6",
        "K-m4QN6ICTVm",
        "RQOFB7tbCpDN",
        "XtGVWsqxDJ6g",
        "apmdsLlbNrCK",
        "UfcotVAvQdFs",
        "c98GQld6HTn3"
      ],
      "provenance": []
    },
    "kernelspec": {
      "display_name": "Python 3",
      "name": "python3"
    },
    "language_info": {
      "name": "python"
    }
  },
  "nbformat": 4,
  "nbformat_minor": 0
}